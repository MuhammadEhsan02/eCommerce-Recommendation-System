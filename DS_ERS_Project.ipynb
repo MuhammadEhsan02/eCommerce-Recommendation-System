{
  "cells": [
    {
      "cell_type": "markdown",
      "metadata": {
        "id": "UH8JmP9hAlJw"
      },
      "source": [
        "# <span style=\"color:orange\">A:</span> Introduction"
      ]
    },
    {
      "cell_type": "markdown",
      "metadata": {
        "id": "96XxhuDWAlJ3"
      },
      "source": [
        "A central issue for Olist is that most customers purchase only one product when they are on the platform as can be seen from the graph below.\n",
        "\n",
        "<img src=\"orderitems.png\" width=\"500\">\n",
        "\n",
        "Upselling is commonly used in traditional commerce to battle problems of this sort by having sales representatives suggest customers additional purchases, for instance if they buy a couch (Sofa) the representative might show them a lot of nice chairs that go well with the couch to see if he can make them buy something extra. [[1]](https://en.wikipedia.org/wiki/Upselling)\n",
        "\n",
        "In ecommerce sales representatives are not present to make such suggestions, and instead the company relies solely on the natural behaviour of the customer.\n",
        "\n",
        "However, using design techniques and advanced analytics, ecommerce websites can nudge customers into buying extra items without having a sales representative present [[2]](https://link.springer.com/article/10.1007/s12599-016-0453-1). One such technique is the use of *Recommender systems*, where famously known examples are how Netflix recommends movies or how Amazon recommends products [[3]](https://dl.acm.org/doi/pdf/10.1145/336992.337035).\n",
        "\n",
        "In this report, several recommender systems will be constructed and tested, and finally combined into a hybdrid recommender system to evaluate how well such system could perform for Olist.\n",
        "\n",
        "Before diving into the different recommender systems, the KPI's will be described. Then, the recommender systems will be created according to the outline as can be seen after the KPI section."
      ]
    },
    {
      "cell_type": "markdown",
      "metadata": {
        "id": "YO9ZNQXOAlJ4"
      },
      "source": [
        "# <span style=\"color:orange\">B:</span> KPI's"
      ]
    },
    {
      "cell_type": "markdown",
      "metadata": {
        "id": "wRvn5sLMAlJ5"
      },
      "source": [
        "The KPI's for this project focus solely on revenue:\n",
        "\n",
        "$$Revenue = Quantity \\times Price$$\n",
        "\n",
        "As it is assumed Olist gets a percentage cut from each product sold. This makes room for two basic KPI's for the recommender systems:\n",
        "1. Can the recommender system increase quantity purchased on the website - e.g. by making customers purchase more pr. order.\n",
        "1. Can the recommender system increase price of items purchased - e.g. by recommending customers more expensive products.\n",
        "\n",
        "The focus of the recommender systems here wil solely be on (1), therefor the KPI can simply be expressed as:\n",
        "\n",
        "$$\\mu_{Quantity_{old}}-\\mu_{Quantity_{new}}$$\n",
        "\n",
        "i.e. what is the average amount of items pr. order before the recommender systems and what are they after the recommender systems. However, as it will not be possible to test the systems live, a simplified KPI will be constructed, here the KPI will simply be: ***Amount of orders for which a recommendation can be made***. This KPI can then be used to guesstimate how many additional products, $Q$, will be sold."
      ]
    },
    {
      "cell_type": "markdown",
      "metadata": {
        "id": "0mauXrJHGCEV"
      },
      "source": [
        "# <span style=\"color:orange\">C:</span> Outline"
      ]
    },
    {
      "cell_type": "markdown",
      "metadata": {
        "id": "kY476i56AlJ6"
      },
      "source": [
        "0. **Descriptive analysis**\n",
        "    1. Products dataset\n",
        "    1. OrderItems dataset\n",
        "    1. Orders dataset\n",
        "    1. Customers dataset\n",
        "    1. Reviews dataset\n",
        "1. **Association rule mining** (Non-personalized)\n",
        "    1. Model building\n",
        "        1. Read data\n",
        "        1. Format data\n",
        "        1. Build model\n",
        "        1. Investigate results and evaluate\n",
        "        1. Build recommender function\n",
        "    1. Conclusion\n",
        "1. **Content-based filtering** (Personalized)\n",
        "    1. Model building\n",
        "        1. Read data\n",
        "        1. Format data\n",
        "        1. Build model\n",
        "        1. Investigate results and evaluate\n",
        "        1. Build recommender function\n",
        "    1. Conclusion\n",
        "1. **Item-item collaborative filtering** (Personalized)\n",
        "    1. Model building\n",
        "        1. Read data\n",
        "        1. Format data\n",
        "        1. Build model\n",
        "        1. Investigate results and evaluate\n",
        "        1. Build recommender function\n",
        "    1. Conclusion\n",
        "1. **Hybrid recommender system**\n",
        "    1. Building the system\n",
        "    1. Evaluation\n",
        "1. **Discussion**\n",
        "1. **Conclusion**\n",
        "1. **References**"
      ]
    },
    {
      "cell_type": "markdown",
      "metadata": {},
      "source": [
        "***Data Set:*** https://www.kaggle.com/datasets/olistbr/brazilian-ecommerce"
      ]
    },
    {
      "cell_type": "markdown",
      "metadata": {
        "id": "WZpmrG7IAlJ6"
      },
      "source": [
        "# <span style=\"color:blue\">0:</span> Descriptive analysis"
      ]
    },
    {
      "cell_type": "markdown",
      "metadata": {
        "id": "bI8J7KsHAlJ7"
      },
      "source": [
        "Here the datasets used will be introduced and a a descriptive analysis will showcase some basic stats and data from the datasets."
      ]
    },
    {
      "cell_type": "code",
      "execution_count": null,
      "metadata": {
        "colab": {
          "base_uri": "https://localhost:8080/"
        },
        "id": "KnKSoaAbDw_z",
        "outputId": "443ac26c-22fc-4107-eec6-c2c62950c95e"
      },
      "outputs": [],
      "source": [
        "!pip install apyori"
      ]
    },
    {
      "cell_type": "code",
      "execution_count": null,
      "metadata": {
        "id": "YLMWfPxMQb9F"
      },
      "outputs": [],
      "source": [
        "import warnings\n",
        "warnings.filterwarnings(\"ignore\")"
      ]
    },
    {
      "cell_type": "code",
      "execution_count": null,
      "metadata": {
        "id": "gbb8t1q_AlJ8"
      },
      "outputs": [],
      "source": [
        "import pandas as pd\n",
        "import numpy as np\n",
        "import matplotlib.pyplot as plt\n",
        "from apyori import apriori\n",
        "from sklearn.linear_model import LogisticRegression\n",
        "import seaborn as sns\n",
        "import plotly.graph_objects as go\n",
        "sns.set(style='darkgrid', palette='muted', color_codes=True)"
      ]
    },
    {
      "cell_type": "markdown",
      "metadata": {
        "id": "LdQJmRi9AlJ-"
      },
      "source": [
        "The construction of the recommender systems relies on 5 datasets.\n",
        "1. Products: Which contains information about each product listed on Olist such as category and size\n",
        "2. Order items: Which contains information about products purchased in each order\n",
        "3. Orders: Which connects a customer to an order\n",
        "4. Customers: Which contains basic geographical information on each customer\n",
        "5. Reviews: Which contains reviews related to an order"
      ]
    },
    {
      "cell_type": "markdown",
      "metadata": {
        "id": "qfUKegxvAlJ_"
      },
      "source": [
        "The datasets have relationship as shown in the image below where green boxes indicate the dataset have been used in the analysis and red cross means the dataset is not used.\n",
        "\n",
        "<img src=\"images/architecture.png\" width=\"500\">"
      ]
    },
    {
      "cell_type": "markdown",
      "metadata": {
        "id": "T_GrcZSxAlJ_"
      },
      "source": [
        "First the datasets will be loaded."
      ]
    },
    {
      "cell_type": "code",
      "execution_count": null,
      "metadata": {
        "id": "u_e4tV-wAlJ_"
      },
      "outputs": [],
      "source": [
        "products = pd.read_csv(\"olist_products_dataset.csv\")\n",
        "orderItems = pd.read_csv(\"olist_order_items_dataset.csv\")\n",
        "orders = pd.read_csv(\"olist_orders_dataset.csv\")\n",
        "customers = pd.read_csv(\"olist_customers_dataset.csv\")\n",
        "reviews = pd.read_csv(\"olist_order_reviews_dataset.csv\")\n",
        "products_translation = pd.read_csv(\"product_category_name_translation.csv\")"
      ]
    },
    {
      "cell_type": "markdown",
      "metadata": {
        "id": "gehX5t7tAlJ_"
      },
      "source": [
        "## <span style=\"color:blue\">0.1:</span> Products dataset"
      ]
    },
    {
      "cell_type": "markdown",
      "metadata": {
        "id": "Fsv6dqarAlKA"
      },
      "source": [
        "The products dataset contains 32.341 products and the product features consists of dimensions, category, and information about its descriptions and number of photos."
      ]
    },
    {
      "cell_type": "code",
      "execution_count": null,
      "metadata": {
        "colab": {
          "base_uri": "https://localhost:8080/",
          "height": 226
        },
        "id": "60dXNRtpAlKA",
        "outputId": "347c110c-5d3a-4cf5-e7a1-e61fb8df53d4"
      },
      "outputs": [],
      "source": [
        "products.head()"
      ]
    },
    {
      "cell_type": "markdown",
      "metadata": {
        "id": "cl6TIqNXAlKB"
      },
      "source": [
        "Investigating the products categories as has been done below, it can be seen that a wide variety of products are being purchased, from computer parts to watches, car-parts and furniture. This variety indicates that there is a good opportunity for making good recommendations for additional purchases."
      ]
    },
    {
      "cell_type": "code",
      "execution_count": null,
      "metadata": {
        "colab": {
          "base_uri": "https://localhost:8080/",
          "height": 950
        },
        "id": "7ZsT65IcAlKB",
        "outputId": "fbd95b39-38b6-4cdd-cb0e-a80baf2c4a9b"
      },
      "outputs": [],
      "source": [
        "# Count number of products in each category and get english names\n",
        "products = products.merge(products_translation[['product_category_name_english', 'product_category_name']], on = 'product_category_name')\n",
        "productsList = products.groupby('product_category_name_english')['product_category_name_english'].count()\n",
        "productsList = productsList.sort_values()\n",
        "\n",
        "# Plot categories\n",
        "fig, axs = plt.subplots(figsize = [13,7])\n",
        "plt.setp(axs.xaxis.get_majorticklabels(), rotation=90)\n",
        "\n",
        "# Distance boxplot\n",
        "axs.set_title(\"Products in each category\", fontsize = 16)\n",
        "axs.bar(productsList.index.to_list(), productsList.to_list())\n",
        "axs.set_ylabel('Number of products',  fontsize=16)"
      ]
    },
    {
      "cell_type": "markdown",
      "metadata": {
        "id": "UrDPqVQOAlKC"
      },
      "source": [
        "The remainder of the dataset primarily relates to product dimensions and the description and amount of photos. From a quick statistical investigation it can be seen that quite a lot of variety exists, which indicates together with the amount of different categories that even though the product features are very few, it should still be possible to construct an MVP recommender system."
      ]
    },
    {
      "cell_type": "code",
      "execution_count": null,
      "metadata": {
        "colab": {
          "base_uri": "https://localhost:8080/",
          "height": 300
        },
        "id": "ZWXJ2GdBAlKC",
        "outputId": "d78fe4e3-da03-40f2-d70b-963010c5e01c"
      },
      "outputs": [],
      "source": [
        "products.describe()"
      ]
    },
    {
      "cell_type": "markdown",
      "metadata": {
        "id": "v-8bGLp1AlKC"
      },
      "source": [
        "## <span style=\"color:blue\">0.2:</span> OrderItems dataset"
      ]
    },
    {
      "cell_type": "markdown",
      "metadata": {
        "id": "MqOsi6FGAlKC"
      },
      "source": [
        "The orderitems dataset consists of 112,650 total orders with 1 or more products, each with an associated price and freight value."
      ]
    },
    {
      "cell_type": "code",
      "execution_count": null,
      "metadata": {
        "colab": {
          "base_uri": "https://localhost:8080/",
          "height": 206
        },
        "id": "KKVja7loAlKC",
        "outputId": "54104fc6-5481-4d26-f5e7-36bc2ee05cd6"
      },
      "outputs": [],
      "source": [
        "orderItems.head()"
      ]
    },
    {
      "cell_type": "markdown",
      "metadata": {
        "id": "gdx_D0DhAlKD"
      },
      "source": [
        "Investigating how many products have been purchased pr. order reveals the almost every order contains just 1 product, a fact that was already shown in the introduction. The downside of this is that this will significantly impact some types of recommender systems as not a lot of information about connections between products will be available."
      ]
    },
    {
      "cell_type": "code",
      "execution_count": null,
      "metadata": {
        "colab": {
          "base_uri": "https://localhost:8080/",
          "height": 522
        },
        "id": "wY_GZ5ynAlKD",
        "outputId": "f01c0c40-5d39-433c-a7dd-9566387d6d4a"
      },
      "outputs": [],
      "source": [
        "# First count number of items pr order id\n",
        "order_id_counts = orderItems.groupby('order_id')['order_item_id'].count()\n",
        "# get number of orders pr size\n",
        "sizes = order_id_counts.value_counts()\n",
        "# then plot and print\n",
        "plt.figure(figsize=(10,5))\n",
        "plt.title(\"Total orders vs. Number of items pr. order\", fontsize=16)\n",
        "plt.xlabel(\"Number of items pr. order\", fontsize=16)\n",
        "plt.ylabel(\"Total orders\", fontsize=16)\n",
        "sizes.plot.bar()"
      ]
    },
    {
      "cell_type": "markdown",
      "metadata": {
        "id": "J5r1dBDsAlKD"
      },
      "source": [
        "Looking at the price of the items, it can be seen that the products range from as low as ~1,00 DKK to as high as ~8.000 DKK with a mean of ~140 DKK meaning that products vary a lot but most of them are relatively low cost, meaning upselling generally has a high potential as lower costs products are easier to upsell."
      ]
    },
    {
      "cell_type": "code",
      "execution_count": null,
      "metadata": {
        "colab": {
          "base_uri": "https://localhost:8080/",
          "height": 300
        },
        "id": "91WmGZcEAlKE",
        "outputId": "a3057f7c-4294-47f8-a022-04949e1e6dad"
      },
      "outputs": [],
      "source": [
        "orderItems.describe()"
      ]
    },
    {
      "cell_type": "markdown",
      "metadata": {
        "id": "lI5Z4FxZAlKE"
      },
      "source": [
        "## <span style=\"color:blue\">0.3:</span> Orders dataset"
      ]
    },
    {
      "cell_type": "markdown",
      "metadata": {
        "id": "9Wk4RmudAlKE"
      },
      "source": [
        "The orders dataset is only used to connect an order with a customer and a review in this analysis, but delivery information and timeseries data is available."
      ]
    },
    {
      "cell_type": "code",
      "execution_count": null,
      "metadata": {
        "colab": {
          "base_uri": "https://localhost:8080/",
          "height": 226
        },
        "id": "BNE5HpFcAlKE",
        "outputId": "afefd9f4-69df-44e5-930f-97984a817267"
      },
      "outputs": [],
      "source": [
        "orders.head()"
      ]
    },
    {
      "cell_type": "markdown",
      "metadata": {
        "id": "QRfsubxiAlKF"
      },
      "source": [
        "## <span style=\"color:blue\">0.4:</span> Customers dataset"
      ]
    },
    {
      "cell_type": "markdown",
      "metadata": {
        "id": "Zq6NeXQ4AlKF"
      },
      "source": [
        "The customers dataset contains geographic information about customers, but is only used in this analysis to get orders and reviews pr. unique customer."
      ]
    },
    {
      "cell_type": "code",
      "execution_count": null,
      "metadata": {
        "colab": {
          "base_uri": "https://localhost:8080/",
          "height": 206
        },
        "id": "rtsItIKTAlKF",
        "outputId": "33991485-b6e5-4a2f-d010-52b5032893af"
      },
      "outputs": [],
      "source": [
        "customers.head()"
      ]
    },
    {
      "cell_type": "markdown",
      "metadata": {
        "id": "6ANwlGGVAlKG"
      },
      "source": [
        "When looking at how many orders each customer has made in the time of the dataset (ca. 2 years) it becomes apparent that not only does must customers only purchase a single item on Olist, they also only purchase once on the platform in total. This means that not only a Olist's customers purchasing too little items at every purchase, they are also purchasing way too infrequent. This cements the need for a good recommender system so customers can not only be helped into buying more pr. order, but also to buy more often, for instance by sending out emails with personal recommendations as part of their marketing strategy."
      ]
    },
    {
      "cell_type": "code",
      "execution_count": null,
      "metadata": {
        "colab": {
          "base_uri": "https://localhost:8080/",
          "height": 522
        },
        "id": "1HJUxCFaAlKG",
        "outputId": "2f7d8bf6-f5df-4f3b-d62a-b9fac774b8fe"
      },
      "outputs": [],
      "source": [
        "# Get how many orders each customer makes\n",
        "customersCount = customers.merge(orders[['order_id', 'customer_id']], on = 'customer_id')\n",
        "customersCount = customersCount.groupby('customer_unique_id')['order_id'].nunique()\n",
        "customersCount = customersCount.value_counts()\n",
        "\n",
        "plt.figure(figsize=(10,5))\n",
        "plt.title(\"Count of total orders for orders pr. customer\", fontsize=16)\n",
        "plt.xlabel(\"Total orders\", fontsize=16)\n",
        "plt.ylabel(\"Orders pr. customer\", fontsize=16)\n",
        "customersCount.plot.bar()"
      ]
    },
    {
      "cell_type": "markdown",
      "metadata": {
        "id": "E0ixzrRMAlKG"
      },
      "source": [
        "## <span style=\"color:blue\">0.5:</span> Reviews dataset"
      ]
    },
    {
      "cell_type": "markdown",
      "metadata": {
        "id": "zZGaqNpCAlKG"
      },
      "source": [
        "Finally, the reviews dataset contains a review (if provided) for each order, note that reviews are related to orders and not the products itself (although most orders have just one product in them)"
      ]
    },
    {
      "cell_type": "code",
      "execution_count": null,
      "metadata": {
        "colab": {
          "base_uri": "https://localhost:8080/",
          "height": 261
        },
        "id": "JktYeavjAlKH",
        "outputId": "18f6f110-c48f-4f3f-fa0c-704494294c0b"
      },
      "outputs": [],
      "source": [
        "reviews.head()"
      ]
    },
    {
      "cell_type": "markdown",
      "metadata": {
        "id": "VPxaCE-iAlKH"
      },
      "source": [
        "Looking at the number of reviews compared to the number of orders, it can to big suprise be seen that almost every order has an associated review score with it. This is good as some recommender systems such as content-based filtering as will be shown later relies on the review scores."
      ]
    },
    {
      "cell_type": "code",
      "execution_count": null,
      "metadata": {
        "colab": {
          "base_uri": "https://localhost:8080/"
        },
        "id": "mJlPhFPrAlKI",
        "outputId": "58a176e8-cc4a-427f-f32b-5b6d7c4d6433"
      },
      "outputs": [],
      "source": [
        "print(\"Number of orders in total: \", orders['order_id'].nunique())\n",
        "print(\"Number of reviews in total: \", reviews['review_id'].nunique())"
      ]
    },
    {
      "cell_type": "markdown",
      "metadata": {
        "id": "TqHLzSLUAlKJ"
      },
      "source": [
        "# <span style=\"color:blue\">1:</span> Association rule mining"
      ]
    },
    {
      "cell_type": "markdown",
      "metadata": {
        "id": "jtbIiXHIAlKJ"
      },
      "source": [
        "*(Non-personalized)*"
      ]
    },
    {
      "cell_type": "markdown",
      "metadata": {
        "id": "Wehq0HVfAlKJ"
      },
      "source": [
        "The first recommender system created will be based on association rule mining and the Apriori algorithm [[4]](http://www.vldb.org/conf/1994/P487.PDF). The algorithm mines for frequencies in the dataset and seeks to establish association rules between items. The algorithm is often used in traditional market basket analysis where it finds rules such as: \"If the customer has put milk in the basket, the the customer is likely to also buy eggs\". This can be used to provide recommendations on Olist based on the customers current basket.\n",
        "\n",
        "The algorithm is very flexible as it adapts to what the customer is currently purchasing, and relies on general, rather than specific rules. The goal of the algorithm is to provide a widget that can ease the shopping experience, for instance if the customer puts a new phone in their basket, an instant pop-up could say \"Do you want a cover with your phone?\" and then recommend a specific cover. This is an example rule that the algorithm could find if customers that purchases phones also often purchases a cover. This would for the customer be seen as a very natural addition, and the likelihood of the customer following a good rule is generally quite high.\n",
        "\n",
        "The model will be build using the [Apyori [5]](https://pypi.org/project/apyori/) package which is an implementation of the algorithm in python."
      ]
    },
    {
      "cell_type": "markdown",
      "metadata": {
        "id": "RmCbGkWwAlKJ"
      },
      "source": [
        "## <span style=\"color:blue\">1.1:</span> Model building"
      ]
    },
    {
      "cell_type": "markdown",
      "metadata": {
        "id": "wSAdOWskAlKJ"
      },
      "source": [
        "Here the model will be build."
      ]
    },
    {
      "cell_type": "markdown",
      "metadata": {
        "id": "ayRWA7qQAlKK"
      },
      "source": [
        "### <span style=\"color:blue\">1.1.1:</span> Read data"
      ]
    },
    {
      "cell_type": "markdown",
      "metadata": {
        "id": "XSFc1Jb-AlKK"
      },
      "source": [
        "First, read the data."
      ]
    },
    {
      "cell_type": "code",
      "execution_count": null,
      "metadata": {
        "colab": {
          "base_uri": "https://localhost:8080/",
          "height": 206
        },
        "id": "wDPIWDKhAlKK",
        "outputId": "78408115-ab4c-41b3-bd3e-9b96daada658",
        "scrolled": true
      },
      "outputs": [],
      "source": [
        "path = \"olist_order_items_dataset.csv\"\n",
        "df = pd.read_csv(path)\n",
        "df.head()"
      ]
    },
    {
      "cell_type": "markdown",
      "metadata": {
        "id": "ugksbgtdAlKK"
      },
      "source": [
        "### <span style=\"color:blue\">1.1.2:</span> Format data"
      ]
    },
    {
      "cell_type": "markdown",
      "metadata": {
        "id": "KxgCqL8XAlKL"
      },
      "source": [
        "The data will be reformatted to fit the apyori implementation of the Apriori algorithm. The format required is a list of lists, where each row is an order and the list corresponding to the order are items purchased in the order."
      ]
    },
    {
      "cell_type": "code",
      "execution_count": null,
      "metadata": {
        "id": "KkHbfPNBAlKL"
      },
      "outputs": [],
      "source": [
        "# Only order_id and product_id are needed\n",
        "df = df[['order_id','product_id']]\n",
        "\n",
        "# Only keep order with multiple purchases\n",
        "orders = df.groupby('order_id')['product_id'].count()\n",
        "orders = orders[orders > 1].index\n",
        "df = df[df['order_id'].isin(orders)]"
      ]
    },
    {
      "cell_type": "code",
      "execution_count": null,
      "metadata": {
        "id": "5FlCgmyZAlKL"
      },
      "outputs": [],
      "source": [
        "# Convert dataframe to list of lists\n",
        "orders = df.groupby('order_id')['product_id'].apply(list)\n",
        "orders = orders.to_numpy()"
      ]
    },
    {
      "cell_type": "markdown",
      "metadata": {
        "id": "v0B_iU0HAlKL"
      },
      "source": [
        "### <span style=\"color:blue\">1.1.3:</span> Build model"
      ]
    },
    {
      "cell_type": "markdown",
      "metadata": {
        "id": "shKJ2V7BAlKM"
      },
      "source": [
        "The choice of parameters in the apriori algorithm is important for two primary reasons:\n",
        "\n",
        "1. It helps reduce the dataset in a meaningful way to reduce runtime (runtimes can easily be many hours or even days)\n",
        "2. It helps produce a list containing only meaningful results\n",
        "\n",
        "The choices can either be tuned as one would tune a traditional ML model, or it can be chosen based on domain knowledge. The parameters below have been chosen based on domain knowledge as traditional parameter tuning does not provide any additional value for this particular dataset.\n",
        "\n",
        "The paremeters chosen are:\n",
        "* **Minimum support:** 2/len(orders)\n",
        "    * This means the model only looks at items that exists in atleast two separate orders. This value might seem low, but as can be seen from the distribution of items pr. order, setting the number any higher would remove almost all data\n",
        "* **Minimum confidence:** 0.25\n",
        "    * Since items are purchased so infrequently together, the confidence has been set to consider combinations that have a confidence of at least 25%, meaning that whenever item A is bought, item B must be bought together with it in at least 25% of the times.\n",
        "* **Minimum lift:** 1\n",
        "    * Due to the limitations of the dataset, it has been chosen to consider all values of lift > 1. As can be seen from the results this value has little meaning\n",
        "* **Minimum rule length:** 2\n",
        "    * There must be at least 2 products pr. rule. It will be very unlikely to construct rules longer than 2 with this dataset."
      ]
    },
    {
      "cell_type": "code",
      "execution_count": null,
      "metadata": {
        "id": "8LY_zQYGAlKM"
      },
      "outputs": [],
      "source": [
        "# Determine association rules based on parameters\n",
        "association_rules = apriori(orders, min_support = (2/len(orders)), min_confidence = 0.25, min_lift = 1, min_length = 2)"
      ]
    },
    {
      "cell_type": "markdown",
      "metadata": {
        "id": "nyjcllsGAlKM"
      },
      "source": [
        "With the model build, a dataframe will then be constructed to investigate the rules constructed more closely. Note that rules of length > 2 are not included. Due to the downwards closure principle information regarding recommendations for the current basket will not be lost by excluding rules of length > 2, but the function can be simplified which improves speed."
      ]
    },
    {
      "cell_type": "code",
      "execution_count": null,
      "metadata": {
        "colab": {
          "base_uri": "https://localhost:8080/",
          "height": 206
        },
        "id": "KEKBkmzxAlKM",
        "outputId": "bf32b013-4edf-48b9-873c-73982fe86d0c"
      },
      "outputs": [],
      "source": [
        "# Pass results to list\n",
        "association_rules = list(association_rules)\n",
        "\n",
        "# Initiate\n",
        "item1 = []\n",
        "item2 = []\n",
        "support = []\n",
        "confidence = []\n",
        "lift = []\n",
        "\n",
        "# Extract values\n",
        "for rule in association_rules:\n",
        "\n",
        "    # Extract items in rules\n",
        "    if len(rule[0]) == 2:\n",
        "        items = [x for x in rule[0]]\n",
        "        item1 = np.append(item1, items[0])\n",
        "        item2 = np.append(item2, items[1])\n",
        "    if len(rule[0]) == 3:\n",
        "        continue\n",
        "\n",
        "    # Extract support, confidence and lift figures\n",
        "    support = np.append(support, rule[1])\n",
        "    confidence = np.append(confidence, rule[2][0][2])\n",
        "    lift = np.append(lift, rule[2][0][3])\n",
        "\n",
        "# Construct association rules dataframe\n",
        "df_ar = pd.DataFrame(list(zip(item1, item2, support, confidence, lift)),\n",
        "               columns =['Item 1', 'Item 2', 'Support', 'Confidence', 'Lift'])\n",
        "\n",
        "df_ar.head()"
      ]
    },
    {
      "cell_type": "markdown",
      "metadata": {
        "id": "4qMsjUKJAlKN"
      },
      "source": [
        "### <span style=\"color:blue\">1.1.4:</span> Investigate results"
      ]
    },
    {
      "cell_type": "markdown",
      "metadata": {
        "id": "w3ugtQsbAlKN"
      },
      "source": [
        "#### <span style=\"color:blue\">1.1.4.1:</span> Results investigation"
      ]
    },
    {
      "cell_type": "markdown",
      "metadata": {
        "id": "h2eqoangAlKN"
      },
      "source": [
        "The results can be investigated with some basic statistical measures"
      ]
    },
    {
      "cell_type": "code",
      "execution_count": null,
      "metadata": {
        "colab": {
          "base_uri": "https://localhost:8080/",
          "height": 300
        },
        "id": "nhahIBo8AlKN",
        "outputId": "f27fbd25-e960-4bbd-9285-821dbd8d947b"
      },
      "outputs": [],
      "source": [
        "# Investigate the results\n",
        "df_ar.describe()"
      ]
    },
    {
      "cell_type": "markdown",
      "metadata": {
        "id": "KacpLpuEAlKO"
      },
      "source": [
        "Investigating the statistical measure of the results from the Apriori algorithm, some concerning things become apparent. Here they will be discussed for each column.\n",
        "\n",
        "**Support**\n",
        "\n",
        "The key figures can be converted to number of items as\n",
        "\n",
        "$$min \\cdot len(orders) = 0.000204 \\cdot 9803 = 2 $$\n",
        "$$mean \\cdot len(orders) = 0.000299 \\cdot 9803 = 2.93 $$\n",
        "$$50\\% \\cdot len(orders) = 0.000204 \\cdot 9803 = 2 $$\n",
        "$$75\\% \\cdot len(orders) = 0.000306 \\cdot 9803 = 3 $$\n",
        "$$max \\cdot len(orders) = 0.003468 \\cdot 9803 = 34 $$\n",
        "\n",
        "From this it becomes apparent that most items are only bought a few times, resulting in very little support for each rule.\n",
        "\n",
        "**Confidence:** Confidence on the other hand is rather high with a mean of 0.64. This is a natural result due to the fact that there is so little support for each item in the data.\n",
        "\n",
        "**Lift:** As a result of the poor results in support and confidence, lift will often be massively inflated and provide much higher values than what would be expected in reality.\n"
      ]
    },
    {
      "cell_type": "markdown",
      "metadata": {
        "id": "KuWP97q2AlKO"
      },
      "source": [
        "#### <span style=\"color:blue\">1.1.4.2:</span> Product investigation"
      ]
    },
    {
      "cell_type": "markdown",
      "metadata": {
        "id": "iDZrZstiAlKO"
      },
      "source": [
        "Below, some arbitrarily rules from the algorithm will be investigated to get an idea of the nature of the rules."
      ]
    },
    {
      "cell_type": "code",
      "execution_count": null,
      "metadata": {
        "colab": {
          "base_uri": "https://localhost:8080/",
          "height": 206
        },
        "id": "UfY57LLvAlKO",
        "outputId": "51946601-50b8-4174-cfa9-a55ec7ddc31c"
      },
      "outputs": [],
      "source": [
        "df_ar.head()"
      ]
    },
    {
      "cell_type": "markdown",
      "metadata": {
        "id": "PqAU5mmeAlKP"
      },
      "source": [
        "The first rule outlined below shows that buying one item from the \"Perfume\" category states you will also buy another item from that same category. This seems logical as a customer might buy two scents from the same collection, or buy a soap + balsam together as a pair."
      ]
    },
    {
      "cell_type": "code",
      "execution_count": null,
      "metadata": {
        "colab": {
          "base_uri": "https://localhost:8080/",
          "height": 109
        },
        "id": "Pugh2zKnAlKP",
        "outputId": "58f3a591-18aa-407c-a6e7-1239ce960e6b"
      },
      "outputs": [],
      "source": [
        "products = pd.read_csv(\"olist_products_dataset.csv\")\n",
        "products[products['product_id'] == '005030ef108f58b46b78116f754d8d38']"
      ]
    },
    {
      "cell_type": "code",
      "execution_count": null,
      "metadata": {
        "colab": {
          "base_uri": "https://localhost:8080/",
          "height": 109
        },
        "id": "nJqrwNLKAlKP",
        "outputId": "5a8969a2-c5bd-4b0a-d384-0fe695d25bae"
      },
      "outputs": [],
      "source": [
        "products[products['product_id'] == '51250f90d798d377a1928e8a4e2e9ae1']"
      ]
    },
    {
      "cell_type": "markdown",
      "metadata": {
        "id": "4Q0nGEEYAlKP"
      },
      "source": [
        "The other rule likewise shows that buying one item in \"Console games\" makes it likely that you will buy another item within that same category. This as well seems logical, as you might buy a console + a controller, or a console + a game or similar."
      ]
    },
    {
      "cell_type": "code",
      "execution_count": null,
      "metadata": {
        "colab": {
          "base_uri": "https://localhost:8080/",
          "height": 109
        },
        "id": "eUfOejBgAlKQ",
        "outputId": "f7b81c40-0d79-41a2-ce82-e54aac615cd1"
      },
      "outputs": [],
      "source": [
        "products[products['product_id'] == '0129d1e9b29d3fe6833cc922374cd252']"
      ]
    },
    {
      "cell_type": "code",
      "execution_count": null,
      "metadata": {
        "colab": {
          "base_uri": "https://localhost:8080/",
          "height": 109
        },
        "id": "5Ld73lpyAlKQ",
        "outputId": "ebe5e02e-bf03-41e3-bfd4-927bb6f4f1f4"
      },
      "outputs": [],
      "source": [
        "products[products['product_id'] == '9f14f401fce2d9ddd450e7ce60cb7f5f']"
      ]
    },
    {
      "cell_type": "markdown",
      "metadata": {
        "id": "LOMMqCNrAlKQ"
      },
      "source": [
        "Since the recommendations are based on actual purchases, there seems to be some logic behind the rules"
      ]
    },
    {
      "cell_type": "markdown",
      "metadata": {
        "id": "XCAyXfDqAlKR"
      },
      "source": [
        "### <span style=\"color:blue\">1.1.5:</span> Build recommender function"
      ]
    },
    {
      "cell_type": "markdown",
      "metadata": {
        "id": "CQD-TpyeAlKR"
      },
      "source": [
        "The association rule mining model will be part of a larger system, but first a function for this part will be constructed."
      ]
    },
    {
      "cell_type": "code",
      "execution_count": null,
      "metadata": {
        "id": "yZPIOGVmAlKR"
      },
      "outputs": [],
      "source": [
        "def recommendationARM(items):\n",
        "\n",
        "    # Initialize empty dataframe\n",
        "    recommendations = pd.DataFrame(columns = ['Item 1', 'Item 2', 'Support', 'Confidence', 'Lift'])\n",
        "\n",
        "    # Append rule to dataframe if item in basket has a rule associated to it\n",
        "    for item in items:\n",
        "        if item in df_ar['Item 1'].values:\n",
        "            recommendations = recommendations.append(df_ar.loc[df_ar['Item 1'] == item])\n",
        "        else:\n",
        "            continue\n",
        "\n",
        "    if recommendations.empty:\n",
        "        recommendations = \"Failed\"\n",
        "    else:\n",
        "        # Extract top 3 best recommendations based on lift\n",
        "        recommendations = recommendations.sort_values(by=['Lift'], ascending = False)\n",
        "        recommendations = recommendations[['Item 2', 'Lift']].iloc[0:3].to_numpy()\n",
        "\n",
        "    return recommendations"
      ]
    },
    {
      "cell_type": "markdown",
      "metadata": {
        "id": "oU7aXLJQAlKR"
      },
      "source": [
        "The function takes a list of items as input and returns the (up to) 3 most likely items the customer will purchase based on their current basket together with the lift for the rule. Example:"
      ]
    },
    {
      "cell_type": "code",
      "execution_count": null,
      "metadata": {
        "colab": {
          "base_uri": "https://localhost:8080/"
        },
        "id": "qjC0oVb2AlKS",
        "outputId": "cd8cb071-0de6-4cee-cd93-c6ffdf779251"
      },
      "outputs": [],
      "source": [
        "recommendation = recommendationARM(['d199462b8361a3e047e64595bce5b6ea', '014a8a503291921f7b004a5215bb3c36'])\n",
        "recommendation"
      ]
    },
    {
      "cell_type": "markdown",
      "metadata": {
        "id": "FOJCt7gpAlKS"
      },
      "source": [
        "The user has items 'd199462b8361a3e047e64595bce5b6ea' and '014a8a503291921f7b004a5215bb3c36' in his/her basket and the system recommends three items; 'fc2d17e60bdd3349a25f3ca6a802a91e' with lift 4901.5, 'dd6a505f83dd3c6326aa9856519e0978' with lift 408.458 and '14dffa241a078aeaebaef48a49e807ca' with lift 272.305.\n",
        "\n",
        "How good these recommendations are is unfortunately impossible to assess without having more information about the products."
      ]
    },
    {
      "cell_type": "markdown",
      "metadata": {
        "id": "QDG9p0X6AlKS"
      },
      "source": [
        "## <span style=\"color:blue\">1.2:</span> Conclusion"
      ]
    },
    {
      "cell_type": "markdown",
      "metadata": {
        "id": "NihniLC4AlKT"
      },
      "source": [
        "In conclusion, the Apriori algorithm does not work well for the current dataset. However, this does not mean that it is not usable. The algorithm have already found some logical links between items, and this can provide a basis for the recommender engine. Additionally, as the company succeeds with increasing number of items pr. order, the algorithm can be re-run and new rules can be extracted, continously increasing the performance of this part of the recommender engine."
      ]
    },
    {
      "cell_type": "markdown",
      "metadata": {
        "id": "HCo5foi5AlKT"
      },
      "source": [
        "# <span style=\"color:blue\">2:</span> Content-based filtering"
      ]
    },
    {
      "cell_type": "markdown",
      "metadata": {
        "id": "4LjIH8V0AlKT"
      },
      "source": [
        "*(Personalized)*"
      ]
    },
    {
      "cell_type": "markdown",
      "metadata": {
        "id": "8aY8-Re0AlKU"
      },
      "source": [
        "With the first recommender system focusing on current items in the basket, what happens when the customer does not currently have an item in the basket? In that case, a recommender system using the user, instead of an item, as an input could be used.\n",
        "\n",
        "Content-based filtering works by looking at what items a user has previously liked and disliked, and uses the features of those products to create a prediction of whether a user will like or dislike a new item with some probability. Essentially, a binary classification algorithm is constructed for each user, which here will be done using a simple logistic regression as proof of concept [[6]](https://en.wikipedia.org/wiki/Recommender_system#Content-based_filtering).\n",
        "\n",
        "As was seen in the association rule mining, the algorithm performed poorly due to lack of multiple items pr. order. Similarly, it can be expected that content-based filtering will peform badly based on the lack of multiple orders pr. customer. However, by focusing on customers with multiple orders present, a proof of concept can still be constructed."
      ]
    },
    {
      "cell_type": "markdown",
      "metadata": {
        "id": "vEo1oOu3AlKU"
      },
      "source": [
        "## <span style=\"color:blue\">2.1:</span> Model building"
      ]
    },
    {
      "cell_type": "markdown",
      "metadata": {
        "id": "3Wtf2CUcAlKU"
      },
      "source": [
        "### <span style=\"color:blue\">2.1.1:</span> Read data"
      ]
    },
    {
      "cell_type": "markdown",
      "metadata": {
        "id": "h2a1TbaDAlKV"
      },
      "source": [
        "First, read the data needed."
      ]
    },
    {
      "cell_type": "code",
      "execution_count": null,
      "metadata": {
        "id": "ut4WUZVuAlKV"
      },
      "outputs": [],
      "source": [
        "# Import datasets\n",
        "products = pd.read_csv(\"olist_products_dataset.csv\")\n",
        "orderItems = pd.read_csv(\"olist_order_items_dataset.csv\")\n",
        "orders = pd.read_csv(\"olist_orders_dataset.csv\")\n",
        "customers = pd.read_csv(\"olist_customers_dataset.csv\")\n",
        "reviews = pd.read_csv(\"olist_order_reviews_dataset.csv\")"
      ]
    },
    {
      "cell_type": "markdown",
      "metadata": {
        "id": "cC8tK1UXAlKV"
      },
      "source": [
        "### <span style=\"color:blue\">2.1.2:</span> Format data"
      ]
    },
    {
      "cell_type": "markdown",
      "metadata": {
        "id": "QzZxKtReAlKV"
      },
      "source": [
        "The format required for the product data is a dataframe with products as indeces and product features as columns."
      ]
    },
    {
      "cell_type": "code",
      "execution_count": null,
      "metadata": {
        "id": "DyZlKiqtAlKW"
      },
      "outputs": [],
      "source": [
        "# OneHotEncode category data and set index\n",
        "products = pd.get_dummies(products, columns=[\"product_category_name\"], prefix='', prefix_sep='')\n",
        "products = products.set_index('product_id')\n",
        "products.dropna(inplace=True)"
      ]
    },
    {
      "cell_type": "code",
      "execution_count": null,
      "metadata": {
        "colab": {
          "base_uri": "https://localhost:8080/",
          "height": 287
        },
        "id": "5lLPDRVYAlKW",
        "outputId": "04bc9c43-de69-44f6-aab0-00194c013ebe"
      },
      "outputs": [],
      "source": [
        "products.head()"
      ]
    },
    {
      "cell_type": "markdown",
      "metadata": {
        "id": "woSSoPrXAlKW"
      },
      "source": [
        "The format required for the customers dataframe is a dataframe with products as indices and customers as columns where the values NaN = Product not purchased by customer, 0 = Product purchased but not liked and 1 = Product purchased and liked by the customer. Since this type of model will only work for customers that have had multiple purchases, the dataset is reduced as such. The dataframe construction can be seen below."
      ]
    },
    {
      "cell_type": "code",
      "execution_count": null,
      "metadata": {
        "id": "irQk2BpuAlKW"
      },
      "outputs": [],
      "source": [
        "# Merge dataframes\n",
        "customers = customers[['customer_id', 'customer_unique_id']].merge(orders[['order_id', 'customer_id']], on = 'customer_id')\n",
        "\n",
        "# Include only customers with multiple purchases\n",
        "red = customers.groupby('customer_unique_id')['order_id'].nunique()\n",
        "red.sort_values(ascending=False, inplace=True)\n",
        "red = red[red > 1]\n",
        "red = red.index.tolist()\n",
        "customers = customers[customers['customer_unique_id'].isin(red)]\n",
        "\n",
        "# Merge dataframes\n",
        "customers = customers.merge(orderItems[['order_id', 'product_id']], on = 'order_id')\n",
        "customers = customers.merge(reviews[['review_score', 'order_id']], on = 'order_id')\n",
        "\n",
        "# Keep only unique customer ID, product ID and review score and redefine index\n",
        "customers = customers[['customer_unique_id', 'product_id', 'review_score']]\n",
        "customers = customers.set_index('product_id')\n",
        "\n",
        "# Comment this line to work on entire dataset\n",
        "# customers = customers.sample(round(0.1*len(customers)), random_state=1)\n",
        "\n",
        "# OneHotEncode customers in new dataframe\n",
        "dummies = pd.get_dummies(customers['customer_unique_id'])\n",
        "\n",
        "# Set values for each customer/product combination to the review score\n",
        "dummies.values[dummies != 0] = customers['review_score']\n",
        "\n",
        "# Remove duplicates in the index\n",
        "customers = dummies.groupby(level=0).max()\n",
        "\n",
        "# Set reindex to same as products dataframe\n",
        "customers = customers.reindex(products.index)\n",
        "\n",
        "# Replace all 0's with NaN = Customer have not purchased product\n",
        "customers = customers.replace(0, np.nan)\n",
        "\n",
        "# Convert reviews such that 1-2 = 0 (not like) and 3-5 = 1 (like)\n",
        "customers[(customers == 2) | (customers == 1)] = 0\n",
        "customers[customers >= 3] = 1\n",
        "\n",
        "# Remove customers that does not have both a like and a dislike\n",
        "for customer in customers:\n",
        "    if customers[customer].nunique() < 2:\n",
        "        customers.drop(columns = [customer], inplace = True)"
      ]
    },
    {
      "cell_type": "code",
      "execution_count": null,
      "metadata": {
        "colab": {
          "base_uri": "https://localhost:8080/",
          "height": 287
        },
        "id": "EK6u3GGEAlKX",
        "outputId": "6375fb7b-f01f-4528-bd08-4128fcc2863b"
      },
      "outputs": [],
      "source": [
        "customers.head()"
      ]
    },
    {
      "cell_type": "markdown",
      "metadata": {
        "id": "c8cejpiFAlKX"
      },
      "source": [
        "The products dataframe and customers dataframe now has matching indices (product_id's) where the products dataframe consists of features for each product and the customers dataframe consists of the product likes of each customer."
      ]
    },
    {
      "cell_type": "markdown",
      "metadata": {
        "id": "WAK9GgR4AlKX"
      },
      "source": [
        "### <span style=\"color:blue\">2.1.3:</span> Build model"
      ]
    },
    {
      "cell_type": "markdown",
      "metadata": {
        "id": "3owDWq_TAlKY"
      },
      "source": [
        "First, extract user product purchases with features as a list (features) and a list of products for each user with 1 or 0 indicating whether the user has liked the purchased product or not (labels). This part is inspired by [[7]](https://cn.inside.dtu.dk/cnnet/filesharing/download/4d379354-2162-4c5c-bdd6-5b732f3a7bc2)"
      ]
    },
    {
      "cell_type": "code",
      "execution_count": null,
      "metadata": {
        "id": "wPc09mZuAlKY"
      },
      "outputs": [],
      "source": [
        "# Extract lengths for iteration\n",
        "n_customers = len(customers.columns)\n",
        "n_products = len(products)\n",
        "n_features = len(products.columns)"
      ]
    },
    {
      "cell_type": "code",
      "execution_count": null,
      "metadata": {
        "id": "ks46UeciAlKY"
      },
      "outputs": [],
      "source": [
        "# For each customer, extract each product that user has bought together with all information about that product\n",
        "X_customers = [products.iloc[customers[i].notna().values].values for i in list(customers)]\n",
        "# For each customer, extract the products that user have liked or disliked\n",
        "Y_customers = [customers[customers[i].notna()][i].values for i in list(customers)]"
      ]
    },
    {
      "cell_type": "markdown",
      "metadata": {
        "id": "yDyFC3StAlKY"
      },
      "source": [
        "Then, for each user, train a logistic regression model on the features of the liked products to create a unique customer profiling model that can be used to predict the probability that the customer will like a product that has not been purhcased by that customer before."
      ]
    },
    {
      "cell_type": "code",
      "execution_count": null,
      "metadata": {
        "id": "3h0pfa73AlKZ"
      },
      "outputs": [],
      "source": [
        "lr_hyperparams = {'penalty':'l2', 'C':1000, 'solver':'lbfgs'}\n",
        "customer_profiles = [LogisticRegression(**lr_hyperparams) for i in range(n_customers)]\n",
        "customer_profiles = [model.fit(X_customers[i], Y_customers[i]) for i, model in enumerate(customer_profiles)]"
      ]
    },
    {
      "cell_type": "markdown",
      "metadata": {
        "id": "_0QGQj31AlKZ"
      },
      "source": [
        "### <span style=\"color:blue\">2.1.4:</span> Investigate results"
      ]
    },
    {
      "cell_type": "markdown",
      "metadata": {
        "id": "4ELFpseQAlKZ"
      },
      "source": [
        "The results will be investigated both with regards to general parameters and user specific recommendations."
      ]
    },
    {
      "cell_type": "markdown",
      "metadata": {
        "id": "MAhoAXkCAlKZ"
      },
      "source": [
        "#### <span style=\"color:blue\">2.1.4.1:</span> Parameter investigation\n",
        "\n",
        "First the parameters for each user will be investigated to get a general feeling of the users."
      ]
    },
    {
      "cell_type": "code",
      "execution_count": null,
      "metadata": {
        "colab": {
          "base_uri": "https://localhost:8080/",
          "height": 273
        },
        "id": "darhaKHiAlKZ",
        "outputId": "1e70edf8-3697-4439-c0db-df69bc90e356"
      },
      "outputs": [],
      "source": [
        "# Initialize empty dataframe\n",
        "paramCheck = products.copy()\n",
        "paramCheck = paramCheck.reset_index(drop=True)\n",
        "paramCheck = paramCheck[0:0]\n",
        "paramCheck.insert(0, 'Overall bias', \"\")\n",
        "paramCheck.insert(0, 'Customer', \"\")\n",
        "\n",
        "# Add customers to dataframe\n",
        "for i in range(len(customer_profiles)):\n",
        "    vals = customer_profiles[i].coef_[0][:].tolist()\n",
        "    vals.insert(0, customer_profiles[i].intercept_[0])\n",
        "    vals.insert(0, list(customers)[i])\n",
        "    paramCheck.loc[i] = vals\n",
        "\n",
        "paramCheck.head()"
      ]
    },
    {
      "cell_type": "markdown",
      "metadata": {
        "id": "YRMJNUS6AlKa"
      },
      "source": [
        "Some example observations:\n",
        "\n",
        "It can be seen for instance that user 2 and 3 on average are a bit more positive than user 0, 1 and 4. However, the bias is really low and in practice means nothing.\n",
        "\n",
        "It can be seen that customer 0 dislikes long product names and customer 1 dislikes long descriptions but like longer names etc.  \n",
        "\n",
        "The different features can be investigated more generally through a simple statistical description:"
      ]
    },
    {
      "cell_type": "code",
      "execution_count": null,
      "metadata": {
        "colab": {
          "base_uri": "https://localhost:8080/",
          "height": 349
        },
        "id": "lTsmkD-KAlKa",
        "outputId": "78d52304-12fe-4146-f592-42a3b50dc663",
        "scrolled": true
      },
      "outputs": [],
      "source": [
        "paramCheck.describe()"
      ]
    },
    {
      "cell_type": "markdown",
      "metadata": {
        "id": "YuU9B4wtAlKa"
      },
      "source": [
        "Here it can be seen that bias is generally quite low meaning relatively fair users and that customers on average dislikes long names and descriptions but like many pictures."
      ]
    },
    {
      "cell_type": "markdown",
      "metadata": {
        "id": "BRsXb5AjAlKa"
      },
      "source": [
        "#### <span style=\"color:blue\">2.1.4.2:</span> User investigation\n",
        "\n",
        "Here the model predictions will be evaluated for the users"
      ]
    },
    {
      "cell_type": "code",
      "execution_count": null,
      "metadata": {
        "colab": {
          "base_uri": "https://localhost:8080/",
          "height": 206
        },
        "id": "bJAKIPNiAlKb",
        "outputId": "c9d026dc-35e8-4dd2-d3f0-a02418348a3c"
      },
      "outputs": [],
      "source": [
        "# Initialize empty dataframe\n",
        "userCheck = pd.DataFrame(columns=['Customer', 'Item 1', 'Item 2', 'Item 3', 'Item 4', 'Item 5', 'Item 6', 'Item 7', 'Item 8', 'Item 9', 'Item 10'])\n",
        "\n",
        "# Get feature values and product names\n",
        "X = products.values\n",
        "product_names = products.index.values\n",
        "\n",
        "# Add each customer and top 10 recommendations to dataframe\n",
        "for i in range(len(customer_profiles)):\n",
        "    theList = []\n",
        "    prob = customer_profiles[i].predict_proba(X)\n",
        "    product_prob = list(zip(product_names, prob))\n",
        "    product_prob.sort(reverse=True, key=lambda x: x[1][1])\n",
        "    for j in range(10):\n",
        "        theList.append(product_prob[j][1][1])\n",
        "    theList.insert(0,list(customers)[i])\n",
        "    userCheck.loc[i] = theList\n",
        "\n",
        "userCheck.head()"
      ]
    },
    {
      "cell_type": "markdown",
      "metadata": {
        "id": "T2ShP_ZiAlKb"
      },
      "source": [
        "By quick investigation it can be seen that most customers are being predicted to have a 100% chance of liking the top 10 product recommendations. This hints at a poor performing model due to lack of data on each customer.\n",
        "\n",
        "The dataframe can be investigated more generally using describe():"
      ]
    },
    {
      "cell_type": "code",
      "execution_count": null,
      "metadata": {
        "colab": {
          "base_uri": "https://localhost:8080/",
          "height": 300
        },
        "id": "ClDa7FGoAlKb",
        "outputId": "6e53c3da-2494-477f-b127-10da361a4f0c"
      },
      "outputs": [],
      "source": [
        "userCheck.describe()"
      ]
    },
    {
      "cell_type": "markdown",
      "metadata": {
        "id": "lxo-YKV4AlKc"
      },
      "source": [
        "Here it can be seen, that when considering the top 10 recommendations for each user, almost each and every recommendation is projected at 100% probability, confirming the suspicion that the model is performing poorly due to lack of data on the customers; Lack of data here meaning that customers rarely have multiple orders which makes profiling them in this manner difficult."
      ]
    },
    {
      "cell_type": "markdown",
      "metadata": {
        "id": "lLFGjTEEAlKc"
      },
      "source": [
        "#### <span style=\"color:blue\">2.1.4.3:</span> Product investigation"
      ]
    },
    {
      "cell_type": "markdown",
      "metadata": {
        "id": "PoyNgL1PAlKc"
      },
      "source": [
        "Here, the customer '004b45ec5c64187465168251cd1c9c2f' (arbitrarily chosen) will be investigated to see the nature of the recommendations"
      ]
    },
    {
      "cell_type": "markdown",
      "metadata": {
        "id": "jNdpZWRBAlKc"
      },
      "source": [
        "As can be seen below, the customer has previously purchased something in the category 'Computer' which the customer did not like, and something within 'Kitchen' which the customer liked."
      ]
    },
    {
      "cell_type": "code",
      "execution_count": null,
      "metadata": {
        "colab": {
          "base_uri": "https://localhost:8080/"
        },
        "id": "zukpJHTSAlKc",
        "outputId": "f72dd207-0d0c-46e9-fe05-9f08f5657f42"
      },
      "outputs": [],
      "source": [
        "productsT = pd.read_csv(\"olist_products_dataset.csv\")\n",
        "productsT = productsT.merge(products_translation[['product_category_name_english', 'product_category_name']], on = 'product_category_name')\n",
        "customers['01ea7dfdac01a4e8fbe2902b73510b20'].sort_values()"
      ]
    },
    {
      "cell_type": "code",
      "execution_count": null,
      "metadata": {
        "colab": {
          "base_uri": "https://localhost:8080/",
          "height": 109
        },
        "id": "fI6ZANHPAlKd",
        "outputId": "18066c12-78ca-4bec-d063-fdf85c0df49a"
      },
      "outputs": [],
      "source": [
        "# Dislike\n",
        "productsT[productsT['product_id'] == 'ba9943916136c9959e24f71bdae28faa']"
      ]
    },
    {
      "cell_type": "code",
      "execution_count": null,
      "metadata": {
        "colab": {
          "base_uri": "https://localhost:8080/",
          "height": 109
        },
        "id": "KGONQqpYAlKd",
        "outputId": "5567e26a-22c7-4857-a9d1-7bf124829d23"
      },
      "outputs": [],
      "source": [
        "# Like\n",
        "productsT[productsT['product_id'] == 'cdad30e46a6fc84785a525ad6b5cf748']"
      ]
    },
    {
      "cell_type": "markdown",
      "metadata": {
        "id": "gQ_OHlFeAlKd"
      },
      "source": [
        "Looking into the recommendations for this customer, it can be seen that a product within 'Kitchen', a product within 'Office' and a product within 'Cool stuff' have been recommended. From the limited information available, the recommendations does seem to have some logic behind them, but it is hard to evaluate properly without better information."
      ]
    },
    {
      "cell_type": "code",
      "execution_count": null,
      "metadata": {
        "colab": {
          "base_uri": "https://localhost:8080/"
        },
        "id": "Gg3jmtc3AlKe",
        "outputId": "0f925296-3cad-4ecb-e43c-f5b89e927025"
      },
      "outputs": [],
      "source": [
        "customer = '01ea7dfdac01a4e8fbe2902b73510b20'\n",
        "recommendation = []\n",
        "i = list(customers).index(customer)\n",
        "X =  products.values\n",
        "product_names = products.index.values\n",
        "prob = customer_profiles[i].predict_proba(X)\n",
        "product_prob = list(zip(product_names, prob))\n",
        "product_prob.sort(reverse=True, key=lambda x: x[1][1])\n",
        "for i in range(3):\n",
        "    recommendation.append([product_prob[i][0], product_prob[i][1][1]])\n",
        "recommendation"
      ]
    },
    {
      "cell_type": "code",
      "execution_count": null,
      "metadata": {
        "colab": {
          "base_uri": "https://localhost:8080/",
          "height": 109
        },
        "id": "WwfIhAg2AlKe",
        "outputId": "c704a453-eaec-4498-c1ae-93f646befbf9"
      },
      "outputs": [],
      "source": [
        "productsT[productsT['product_id'] == 'cdad30e46a6fc84785a525ad6b5cf748']"
      ]
    },
    {
      "cell_type": "code",
      "execution_count": null,
      "metadata": {
        "colab": {
          "base_uri": "https://localhost:8080/",
          "height": 109
        },
        "id": "YhVuDsSeAlKe",
        "outputId": "af396b4e-97f7-4912-f546-126cb965ac1b"
      },
      "outputs": [],
      "source": [
        "productsT[productsT['product_id'] == '61d980017b9f55ac2451dbf0bdb849f2']"
      ]
    },
    {
      "cell_type": "code",
      "execution_count": null,
      "metadata": {
        "colab": {
          "base_uri": "https://localhost:8080/",
          "height": 109
        },
        "id": "V-VZJA0iAlKf",
        "outputId": "3a448270-f7b9-4aba-abbf-152650a61b86"
      },
      "outputs": [],
      "source": [
        "productsT[productsT['product_id'] == '0d94e21c8156ffa3dcb77cb1d456ef80']"
      ]
    },
    {
      "cell_type": "markdown",
      "metadata": {
        "id": "4wFknFFbAlKf"
      },
      "source": [
        "### <span style=\"color:blue\">2.1.5:</span> Build recommender function"
      ]
    },
    {
      "cell_type": "markdown",
      "metadata": {
        "id": "k-78Q3ArAlKf"
      },
      "source": [
        "Despite the poor performance (or rather, too good performance) of the model, the reccomendation function will still be constructed as a proof of concept since the model could be improved dramatically as customers purchase more products over time."
      ]
    },
    {
      "cell_type": "code",
      "execution_count": null,
      "metadata": {
        "id": "OW4occLLAlKf"
      },
      "outputs": [],
      "source": [
        "def recommendationCBF(customer):\n",
        "\n",
        "    recommendation = []\n",
        "\n",
        "    # Check if customer has a model associated\n",
        "    if customer in list(customers):\n",
        "\n",
        "        # Get model number of customer\n",
        "        i = list(customers).index(customer)\n",
        "\n",
        "        # Get values and names of products\n",
        "        X =  products.values\n",
        "        product_names = products.index.values\n",
        "\n",
        "        # Predict probability of customer liking each product\n",
        "        prob = customer_profiles[i].predict_proba(X)\n",
        "\n",
        "        # Store product names and probability in sorted list\n",
        "        product_prob = list(zip(product_names, prob))\n",
        "        product_prob.sort(reverse=True, key=lambda x: x[1][1])\n",
        "\n",
        "        # Recommend top 3 items\n",
        "        for i in range(3):\n",
        "            recommendation.append([product_prob[i][0], product_prob[i][1][1]])\n",
        "    else:\n",
        "        return \"Failed\"\n",
        "\n",
        "    return recommendation"
      ]
    },
    {
      "cell_type": "markdown",
      "metadata": {
        "id": "dsdttQqSAlKg"
      },
      "source": [
        "The function simply takes a unique_user_id as input and returns the top 3 recommendations for that user, based on what products that user has previously liked and disliked. As an example, recommendations for the user '01ea7dfdac01a4e8fbe2902b73510b20' have been extracted below."
      ]
    },
    {
      "cell_type": "code",
      "execution_count": null,
      "metadata": {
        "colab": {
          "base_uri": "https://localhost:8080/"
        },
        "id": "iydwnyDMAlKg",
        "outputId": "87fe09d4-d6ed-4597-f49d-eba15b1858e1"
      },
      "outputs": [],
      "source": [
        "recommendation = recommendationCBF('01ea7dfdac01a4e8fbe2902b73510b20')\n",
        "recommendation"
      ]
    },
    {
      "cell_type": "markdown",
      "metadata": {
        "id": "yGy8Ofn7AlKg"
      },
      "source": [
        "Here it can be seen that with very high probability, the user will like the three products."
      ]
    },
    {
      "cell_type": "markdown",
      "metadata": {
        "id": "o4rT5Gu6AlKg"
      },
      "source": [
        "## <span style=\"color:blue\">2.2:</span> Conclusion"
      ]
    },
    {
      "cell_type": "markdown",
      "metadata": {
        "id": "3lTNhausAlKh"
      },
      "source": [
        "The conclusion here is much similar to that of the Apriori algorithm, namely that the content-based filtering does not work well with the current data available. However, as customers increase the number of orders, the model might see rapid improvement. However, as it only works for customers with multiple unique orders, the recommendations currently impact just a fraction of the total customers."
      ]
    },
    {
      "cell_type": "markdown",
      "metadata": {
        "id": "xoKWrZFKAlKh"
      },
      "source": [
        "# <span style=\"color:blue\">3:</span> Item-Item Collaborative filtering"
      ]
    },
    {
      "cell_type": "markdown",
      "metadata": {
        "id": "cCCCC5M1AlKh"
      },
      "source": [
        "*(Personalized)*"
      ]
    },
    {
      "cell_type": "markdown",
      "metadata": {
        "id": "aTgur2LNAlKh"
      },
      "source": [
        "Seeing how associative rules and user-based recommendations both provided somewhat unsatisfactory results, a final option is available in terms of recommender systems.\n",
        "\n",
        "In the field of 'Collaborative filtering' user-user recommendations and item-item recommendations er the two possibilities. User-user finds users that a similar to a user in terms of ratings given to documents, and provides recommendations based on the idea that *'users that have agreed in the past are likely to agree in the future**. However, as was seen, due to the sparsity of user information this seems a bad road to take.\n",
        "\n",
        "Another options is using item-item recommendations. Here, instead of finding similar users, similar items are found instead. That is, items that have gotten similar ratings are deemed similar. Due to the excessive amount of items in the database, this seems a good road to take. However, a word of caution is that since Olist contains so many different types of items, this could lead to bad recommendations."
      ]
    },
    {
      "cell_type": "markdown",
      "metadata": {
        "id": "__1JED8JAlKh"
      },
      "source": [
        "## <span style=\"color:blue\">3.1:</span> Model building"
      ]
    },
    {
      "cell_type": "markdown",
      "metadata": {
        "id": "hA4ZI6GxAlKi"
      },
      "source": [
        "Time to build the model."
      ]
    },
    {
      "cell_type": "markdown",
      "metadata": {
        "id": "ObS4IXAUAlKi"
      },
      "source": [
        "### <span style=\"color:blue\">3.1.1:</span> Read data"
      ]
    },
    {
      "cell_type": "code",
      "execution_count": null,
      "metadata": {
        "id": "TqpgZMB2AlKi"
      },
      "outputs": [],
      "source": [
        "products_IICF = pd.read_csv(\"olist_products_dataset.csv\")\n",
        "orderItems = pd.read_csv(\"olist_order_items_dataset.csv\")\n",
        "orders = pd.read_csv(\"olist_orders_dataset.csv\")\n",
        "customers_IICF = pd.read_csv(\"olist_customers_dataset.csv\")\n",
        "reviews = pd.read_csv(\"olist_order_reviews_dataset.csv\")"
      ]
    },
    {
      "cell_type": "markdown",
      "metadata": {
        "id": "nMdTR5csAlKi"
      },
      "source": [
        "### <span style=\"color:blue\">3.1.2:</span> Format data"
      ]
    },
    {
      "cell_type": "markdown",
      "metadata": {
        "id": "j_jSlyvGAlKj"
      },
      "source": [
        "The first step is to construct a dataframe with users as indices and products as columns. Each user should have NaN for a product they have not purchased, and have their review for a product they have purchased. Note that only customers with multiple purchases have been included to reduce the size of the dataset."
      ]
    },
    {
      "cell_type": "code",
      "execution_count": null,
      "metadata": {
        "colab": {
          "base_uri": "https://localhost:8080/",
          "height": 475
        },
        "id": "edv8U4vcAlKj",
        "outputId": "6b306572-6506-410b-b83d-8d42c5b983cb"
      },
      "outputs": [],
      "source": [
        "# Merge dataframes\n",
        "customers_IICF = customers_IICF[['customer_id', 'customer_unique_id']].merge(orders[['order_id', 'customer_id']], on = 'customer_id')\n",
        "customers_IICF = customers_IICF.merge(orderItems[['order_id', 'product_id']], on = 'order_id')\n",
        "\n",
        "# Uncomment to include only customers with multiple purchases\n",
        "red = customers_IICF.groupby('customer_unique_id')['order_id'].nunique()\n",
        "red.sort_values(ascending=False, inplace=True)\n",
        "red = red[red > 1]\n",
        "red = red.index.tolist()\n",
        "customers_IICF = customers_IICF[customers_IICF['customer_unique_id'].isin(red)]\n",
        "\n",
        "# Merge dataframes\n",
        "customers_IICF = customers_IICF.merge(reviews[['review_score', 'order_id']], on = 'order_id')\n",
        "\n",
        "# Keep only unique customer ID, product ID and review score and redefine index\n",
        "customers_IICF = customers_IICF[['customer_unique_id', 'product_id', 'review_score']]\n",
        "customers_IICF = customers_IICF.set_index('customer_unique_id')\n",
        "\n",
        "# customers = customers.sample(round(0.1*len(customers)), random_state=1)\n",
        "\n",
        "# OneHotEncode products in new dataframe\n",
        "dummies = pd.get_dummies(customers_IICF['product_id'])\n",
        "\n",
        "# Set values for each customer/product combination to the review score\n",
        "dummies.values[dummies != 0] = customers_IICF['review_score']\n",
        "\n",
        "# Remove duplicates in the index\n",
        "customers_IICF = dummies.groupby(level=0).max()\n",
        "\n",
        "# Replace all 0's with NaN = Customer have not purchased product\n",
        "customers_IICF = customers_IICF.replace(0, np.nan)\n",
        "customers_IICF"
      ]
    },
    {
      "cell_type": "markdown",
      "metadata": {
        "id": "3vwR2vlUAlKj"
      },
      "source": [
        "### <span style=\"color:blue\">3.1.3:</span> Build model"
      ]
    },
    {
      "cell_type": "markdown",
      "metadata": {
        "id": "r8RESgsqAlKj"
      },
      "source": [
        "Now that the initial dataframe is constructed, the next step is to create a correlation-matrix between the products. This has been done below."
      ]
    },
    {
      "cell_type": "code",
      "execution_count": null,
      "metadata": {
        "colab": {
          "base_uri": "https://localhost:8080/",
          "height": 443
        },
        "id": "wyU8hM5GAlKk",
        "outputId": "9b53f1fe-c66e-4c34-b0cb-e999eec116bd"
      },
      "outputs": [],
      "source": [
        "# Correlation matrix\n",
        "correlations = customers_IICF.corr()\n",
        "correlations"
      ]
    },
    {
      "cell_type": "markdown",
      "metadata": {
        "id": "tFfCRWI0AlKk"
      },
      "source": [
        "The resulting dataframe is extremely sparse, however, it can still be used as a proof of concept. The model build will be giving recommendations based on a single item, i.e. if a customer is currently on that items page, these could be listed as \"You might also like...\" or similar."
      ]
    },
    {
      "cell_type": "markdown",
      "metadata": {
        "id": "L4slBdKIAlKk"
      },
      "source": [
        "First, a a list of the current customers purchased and non-purchased items will be constructed, such that the recommendations will only be for items not previously purchased. This part is inspired by [[7]](https://cn.inside.dtu.dk/cnnet/filesharing/download/4d379354-2162-4c5c-bdd6-5b732f3a7bc2)."
      ]
    },
    {
      "cell_type": "code",
      "execution_count": null,
      "metadata": {
        "id": "O-4pjO1-AlKl"
      },
      "outputs": [],
      "source": [
        "K = 3\n",
        "customer_id = 'ff8892f7c26aa0446da53d01b18df463'"
      ]
    },
    {
      "cell_type": "code",
      "execution_count": null,
      "metadata": {
        "id": "QOveNxGzAlKm"
      },
      "outputs": [],
      "source": [
        "nonPurchased = customers_IICF.loc[customer_id]\n",
        "nonPurchased = nonPurchased[nonPurchased.isnull()]"
      ]
    },
    {
      "cell_type": "markdown",
      "metadata": {
        "id": "kYI_HhTaAlKm"
      },
      "source": [
        "The result is an incredibly sparse list as the customer has most likely only purchased a few products from the platform. The model will be build on the 3 nearest neighbours using the correlations from above."
      ]
    },
    {
      "cell_type": "code",
      "execution_count": null,
      "metadata": {
        "colab": {
          "base_uri": "https://localhost:8080/"
        },
        "id": "6xOA8kZYAlKm",
        "outputId": "ce6a9e6e-662e-4719-de92-50430203c6d5"
      },
      "outputs": [],
      "source": [
        "# Loop over each non-purchased items in the customer's list.\n",
        "for product_id, val in nonPurchased.iteritems():\n",
        "\n",
        "    # Initialize ratings and weights\n",
        "    rating = 0\n",
        "    weights_sum = 0\n",
        "\n",
        "    # Get correlations of non-purchased product and sort to get k closest neighbours\n",
        "    neighbours_corr = correlations[product_id].sort_values(ascending=False)[1: K+1]\n",
        "\n",
        "    # Get mean rating of the product\n",
        "    product_mean = customers_IICF[product_id].mean()\n",
        "\n",
        "    # Get mean ratings of the neighbourghs\n",
        "    neighbours_ratings = customers_IICF[neighbours_corr.index].transpose()\n",
        "    neighbours_means = neighbours_ratings.mean(axis=1)\n",
        "\n",
        "    # Loop over each neighbourgh of the product\n",
        "    for neighbour_id, row in neighbours_ratings.iterrows():\n",
        "\n",
        "        # If NaN, check next neighbourgh\n",
        "        if np.isnan(row[customer_id]):\n",
        "            continue\n",
        "\n",
        "        # Else, calculate subparts of score calculation\n",
        "        else:\n",
        "            rating += neighbours_corr[neighbour_id] * (row[customer_id] - neighbours_means[neighbour_id])\n",
        "            weights_sum += abs(neighbours_corr[neighbour_id])\n",
        "\n",
        "    # Calculate score\n",
        "    if weights_sum > 0:\n",
        "        rating /= weights_sum\n",
        "    else:\n",
        "        rating += product_mean\n",
        "        nonPurchased.at[product_id] = rating\n",
        "\n",
        "# Return k best scores\n",
        "nonPurchased.sort_values(ascending=False)[0:K]"
      ]
    },
    {
      "cell_type": "markdown",
      "metadata": {
        "id": "9ommGxv8AlKn"
      },
      "source": [
        "The result is three recommendations based on top-similatiries of products that the user have not yet bought, to what the user have bought previously."
      ]
    },
    {
      "cell_type": "markdown",
      "metadata": {
        "id": "GBVh-iCpAlKn"
      },
      "source": [
        "### <span style=\"color:blue\">3.1.4:</span> Investigate results and evaluate"
      ]
    },
    {
      "cell_type": "markdown",
      "metadata": {
        "id": "nCbWrnHKAlKn"
      },
      "source": [
        "To investigate the results, a dataset with each user in the index and their top three items as columns will be constructed. Here, which items recommended will not be important as the dataset does not allow for any meaningful investigation due to lack of features, instead, the evaluation will look at the recommendation scores. Note that only the first 100 customers are investigated, as the runtime is very big."
      ]
    },
    {
      "cell_type": "code",
      "execution_count": null,
      "metadata": {
        "colab": {
          "base_uri": "https://localhost:8080/",
          "height": 206
        },
        "id": "OJke9VqvKmCy",
        "outputId": "d5229fd9-4668-4672-c456-e7b5e803e474"
      },
      "outputs": [],
      "source": [
        "# Initialize empty dataframe\n",
        "userCheck = pd.DataFrame(columns=['Customer', 'Item 1: Score', 'Item 2: Score', 'Item 3: Score'])\n",
        "\n",
        "K = 3\n",
        "for i in range(100):\n",
        "\n",
        "    # Get customer non purchased items\n",
        "    customer_id = customers_IICF.index[i]\n",
        "    nonPurchased = customers_IICF.loc[customer_id]\n",
        "    nonPurchased = nonPurchased[nonPurchased.isnull()]\n",
        "\n",
        "\n",
        "    # Loop over each non-purchased items in the customer's list.\n",
        "    for product_id, val in nonPurchased.items():\n",
        "\n",
        "        rating = 0\n",
        "        weights_sum = 0\n",
        "\n",
        "        # Get correlations of non-purchased product and sort to get k closest neighbours\n",
        "        neighbours_corr = correlations[product_id].sort_values(ascending=False)[1: K+1]\n",
        "\n",
        "        # Get mean rating of the product\n",
        "        product_mean = customers_IICF[product_id].mean()\n",
        "\n",
        "        # Get mean ratings of the neighbourghs\n",
        "        neighbours_ratings = customers_IICF[neighbours_corr.index].transpose()\n",
        "        neighbours_means = neighbours_ratings.mean(axis=1)\n",
        "\n",
        "        # Loop over each neighbourgh of the product\n",
        "        for neighbour_id, row in neighbours_ratings.iterrows():\n",
        "\n",
        "            # If NaN, check next neighbourgh\n",
        "            if np.isnan(row[customer_id]):\n",
        "                continue\n",
        "\n",
        "            # Else, calculate subparts of score calculation\n",
        "            else:\n",
        "                rating += neighbours_corr[neighbour_id] * (row[customer_id] - neighbours_means[neighbour_id])\n",
        "                weights_sum += abs(neighbours_corr[neighbour_id])\n",
        "\n",
        "        # Calculate score\n",
        "        if weights_sum > 0:\n",
        "            rating /= weights_sum\n",
        "        else:\n",
        "            rating += product_mean\n",
        "            nonPurchased.at[product_id] = rating\n",
        "\n",
        "    # Return k best scores\n",
        "    appender = nonPurchased.sort_values(ascending=False)[0:K].to_list()\n",
        "    appender.insert(0,customer_id)\n",
        "    userCheck.loc[i] = appender\n",
        "\n",
        "userCheck.head()"
      ]
    },
    {
      "cell_type": "code",
      "execution_count": null,
      "metadata": {
        "colab": {
          "base_uri": "https://localhost:8080/",
          "height": 300
        },
        "id": "PrtB1tMBAlKo",
        "outputId": "912414d8-5d33-4931-aa7d-69ba20217791"
      },
      "outputs": [],
      "source": [
        "userCheck.describe()"
      ]
    },
    {
      "cell_type": "markdown",
      "metadata": {
        "id": "FnC2l3fKAlKo"
      },
      "source": [
        "Investigating the results of the recommendations once again proves that since each product is bought so irregularly, traditional recommendations like these become close to obsolete as the similarity score is just straight-up 5 for each item, most likely due to lack of samples. However, without more information about the products themselves to do a qualitative investigation, the results are hard to deem good or bad."
      ]
    },
    {
      "cell_type": "markdown",
      "metadata": {
        "id": "wJ_IIPnGAlKp"
      },
      "source": [
        "Looking into the items recommended, a specific look is taken at user '004288347e5e88a27ded2bb23747066c' (arbitrarily chosen)."
      ]
    },
    {
      "cell_type": "code",
      "execution_count": null,
      "metadata": {
        "colab": {
          "base_uri": "https://localhost:8080/"
        },
        "id": "7vsBYLh4AlKp",
        "outputId": "078a7e93-832a-43de-aecf-a8123b0da4aa"
      },
      "outputs": [],
      "source": [
        "K = 3\n",
        "customer_id = '004288347e5e88a27ded2bb23747066c'\n",
        "nonPurchased = customers_IICF.loc[customer_id]\n",
        "nonPurchased = nonPurchased[nonPurchased.isnull()]\n",
        "# Loop over each non-purchased items in the customer's list.\n",
        "for product_id, val in nonPurchased.items():\n",
        "\n",
        "    # Initialize ratings and weights\n",
        "    rating = 0\n",
        "    weights_sum = 0\n",
        "\n",
        "    # Get correlations of non-purchased product and sort to get k closest neighbours\n",
        "    neighbours_corr = correlations[product_id].sort_values(ascending=False)[1: K+1]\n",
        "\n",
        "    # Get mean rating of the product\n",
        "    product_mean = customers_IICF[product_id].mean()\n",
        "\n",
        "    # Get mean ratings of the neighbourghs\n",
        "    neighbours_ratings = customers_IICF[neighbours_corr.index].transpose()\n",
        "    neighbours_means = neighbours_ratings.mean(axis=1)\n",
        "\n",
        "    # Loop over each neighbourgh of the product\n",
        "    for neighbour_id, row in neighbours_ratings.iterrows():\n",
        "\n",
        "        # If NaN, check next neighbourgh\n",
        "        if np.isnan(row[customer_id]):\n",
        "            continue\n",
        "        # Else, calculate subparts of score calculation\n",
        "        else:\n",
        "            rating += neighbours_corr[neighbour_id] * (row[customer_id] - neighbours_means[neighbour_id])\n",
        "            weights_sum += abs(neighbours_corr[neighbour_id])\n",
        "\n",
        "    # Calculate score\n",
        "    if weights_sum > 0:\n",
        "        rating /= weights_sum\n",
        "    else:\n",
        "        rating += product_mean\n",
        "        nonPurchased.at[product_id] = rating\n",
        "\n",
        "# Return k best scores\n",
        "nonPurchased.sort_values(ascending=False)[0:K]"
      ]
    },
    {
      "cell_type": "markdown",
      "metadata": {
        "id": "3Cg2nTkrAlKp"
      },
      "source": [
        "The customer has previously purchased the products '6e1b14d3cbb5fb3a2c00351007127dfd' and 'a2bd2eae20998a24c22b110334928b02' as can be seen below. The products Belong to the categories \"Cool stuff\" and \"Luggage accessories\"."
      ]
    },
    {
      "cell_type": "code",
      "execution_count": null,
      "metadata": {
        "colab": {
          "base_uri": "https://localhost:8080/"
        },
        "id": "nDha2RqXAlKp",
        "outputId": "cda12435-a743-4551-c8cd-c1d64053b5d9"
      },
      "outputs": [],
      "source": [
        "customers_IICF[customers_IICF.index == customer_id].count().sort_values(ascending = False)"
      ]
    },
    {
      "cell_type": "code",
      "execution_count": null,
      "metadata": {
        "id": "BWHyxUhDAlKq"
      },
      "outputs": [],
      "source": [
        "productsT = products_IICF.merge(products_translation[['product_category_name_english', 'product_category_name']], on = 'product_category_name')\n"
      ]
    },
    {
      "cell_type": "code",
      "execution_count": null,
      "metadata": {
        "colab": {
          "base_uri": "https://localhost:8080/",
          "height": 109
        },
        "id": "ceEsLN2TAlKq",
        "outputId": "61e42347-eb4f-4722-a613-757bac6553f0"
      },
      "outputs": [],
      "source": [
        "productsT[productsT['product_id'] == '6e1b14d3cbb5fb3a2c00351007127dfd']"
      ]
    },
    {
      "cell_type": "code",
      "execution_count": null,
      "metadata": {
        "colab": {
          "base_uri": "https://localhost:8080/",
          "height": 109
        },
        "id": "U0-kHE1DAlKq",
        "outputId": "f693f279-b94b-4901-8b2d-4446255e17a5"
      },
      "outputs": [],
      "source": [
        "productsT[productsT['product_id'] == 'a2bd2eae20998a24c22b110334928b02']"
      ]
    },
    {
      "cell_type": "markdown",
      "metadata": {
        "id": "bPd7w_JgAlKq"
      },
      "source": [
        "The recommended items for this customer can be seen below:"
      ]
    },
    {
      "cell_type": "code",
      "execution_count": null,
      "metadata": {
        "colab": {
          "base_uri": "https://localhost:8080/",
          "height": 109
        },
        "id": "fd0RRnx1AlKr",
        "outputId": "1401969a-b7bd-4e9a-f87c-2ae04813c298"
      },
      "outputs": [],
      "source": [
        "productsT[productsT['product_id'] == 'ffd4bf4306745865e5692f69bd237893']"
      ]
    },
    {
      "cell_type": "code",
      "execution_count": null,
      "metadata": {
        "colab": {
          "base_uri": "https://localhost:8080/",
          "height": 109
        },
        "id": "NDxM929XAlKr",
        "outputId": "aa22c366-71e2-4556-9c7c-e73fd5a125f8"
      },
      "outputs": [],
      "source": [
        "productsT[productsT['product_id'] == '6562dd6467621f6b5ab019a96d4ee8c7']"
      ]
    },
    {
      "cell_type": "code",
      "execution_count": null,
      "metadata": {
        "colab": {
          "base_uri": "https://localhost:8080/",
          "height": 109
        },
        "id": "d-HDODlyAlKr",
        "outputId": "87ee0388-a818-458c-e6ae-8ef11dbd32ec"
      },
      "outputs": [],
      "source": [
        "productsT[productsT['product_id'] == '6d4529d03dc71d5aa90fd51b4633fdaa']"
      ]
    },
    {
      "cell_type": "markdown",
      "metadata": {
        "id": "wdQmYWXOAlKr"
      },
      "source": [
        "Here it can be seen that the recommendations are in three different categories, \"Fashion\", \"Auto\" and \"Stationary\". The categories does not seem very logically connected, further indicating that the dataset is too sparse for good recommendations using this technique."
      ]
    },
    {
      "cell_type": "markdown",
      "metadata": {
        "id": "Iv3B2quDAlKs"
      },
      "source": [
        "### <span style=\"color:blue\">3.1.5:</span> Build recommender function"
      ]
    },
    {
      "cell_type": "markdown",
      "metadata": {
        "id": "999phd0MAlKs"
      },
      "source": [
        "The recommender function simple takes a user as an input, and reports back the most similar items to products this user has previously liked."
      ]
    },
    {
      "cell_type": "code",
      "execution_count": null,
      "metadata": {
        "id": "EqRc_KMuAlKs"
      },
      "outputs": [],
      "source": [
        "def recommendationIICF(customer_id):\n",
        "\n",
        "    K = 3\n",
        "    if customer_id in customers_IICF.index:\n",
        "        nonPurchased = customers_IICF.loc[customer_id]\n",
        "        nonPurchased = nonPurchased[nonPurchased.isnull()]\n",
        "\n",
        "        # Loop over each non-purchased items in the customer's list.\n",
        "        for product_id, val in nonPurchased.items():\n",
        "\n",
        "            rating = 0\n",
        "            weights_sum = 0\n",
        "\n",
        "            # Get correlations of non-purchased product and sort to get k closest neighbours\n",
        "            neighbours_corr = correlations[product_id].sort_values(ascending=False)[1: K+1]\n",
        "\n",
        "            # Get mean rating of the product\n",
        "            product_mean = customers_IICF[product_id].mean()\n",
        "\n",
        "            # Get mean ratings of the neighbourghs\n",
        "            neighbours_ratings = customers_IICF[neighbours_corr.index].transpose()\n",
        "            neighbours_means = neighbours_ratings.mean(axis=1)\n",
        "\n",
        "            # Loop over each neighbourgh of the product\n",
        "            for neighbour_id, row in neighbours_ratings.iterrows():\n",
        "\n",
        "                # If NaN, check next neighbourgh\n",
        "                if np.isnan(row[customer_id]):\n",
        "                    continue\n",
        "                #Else, calculate subparts of score calculation\n",
        "                else:\n",
        "                    rating += neighbours_corr[neighbour_id] * (row[customer_id] - neighbours_means[neighbour_id])\n",
        "                    weights_sum += abs(neighbours_corr[neighbour_id])\n",
        "\n",
        "            if weights_sum > 0:\n",
        "                rating /= weights_sum\n",
        "            else:\n",
        "                rating += product_mean\n",
        "                nonPurchased.at[product_id] = rating\n",
        "\n",
        "        #Return k best scores\n",
        "        scores = nonPurchased.sort_values(ascending=False)[0:K]\n",
        "        scores_index = scores.index.to_list()\n",
        "        scores_values = scores.to_list()\n",
        "        scores = [[scores_index[0],scores_values[0]],[scores_index[1],scores_values[1]],[scores_index[2],scores_values[2]]]\n",
        "\n",
        "    else:\n",
        "        return \"Failed\"\n",
        "\n",
        "    return scores"
      ]
    },
    {
      "cell_type": "markdown",
      "metadata": {
        "id": "hNdKq5H9AlKt"
      },
      "source": [
        "Here for example, providing the function with user '005030ef108f58b46b78116f754d8d38' returns the following products and scores:"
      ]
    },
    {
      "cell_type": "code",
      "execution_count": null,
      "metadata": {
        "colab": {
          "base_uri": "https://localhost:8080/"
        },
        "id": "qREkhHJCAlKt",
        "outputId": "c0fc195b-138d-4a8c-e3d4-3c62f0c18bd9"
      },
      "outputs": [],
      "source": [
        "recommendations = recommendationIICF('004288347e5e88a27ded2bb23747066c')\n",
        "recommendations"
      ]
    },
    {
      "cell_type": "markdown",
      "metadata": {
        "id": "6FrcvGxIAlKt"
      },
      "source": [
        "Where it can be seen that this person gets recommended product 'ffd4bf4306745865e5692f69bd237893', product '6562dd6467621f6b5ab019a96d4ee8c7' and product '6d4529d03dc71d5aa90fd51b4633fdaa'"
      ]
    },
    {
      "cell_type": "markdown",
      "metadata": {
        "id": "dEPPhyGUAlKt"
      },
      "source": [
        "## <span style=\"color:blue\">3.2:</span> Conclusion"
      ]
    },
    {
      "cell_type": "markdown",
      "metadata": {
        "id": "Hbq-NihqAlKu"
      },
      "source": [
        "Similar to the other systems constructed, the item-item based collaborative filtering (IICF) also seems to suffer from the nature of the dataset. It seems too sparse to be used to do proper recommendations, additionally, due to the lack of features/data available the results are incredibly hard to evaluate properly but when investigating the products, no logical connections between the user and the purchases seemed to be present.\n",
        "\n",
        "The upside for IICF however, is that it is able to provide recommendations for all customers in the database. This is a vast improvement from the previous models that were only able to provide recommendations for a limited subset of the customers/items."
      ]
    },
    {
      "cell_type": "markdown",
      "metadata": {
        "id": "b5vJzx9pAlKu"
      },
      "source": [
        "# <span style=\"color:blue\">4:</span> Hybrid Recommender Engine"
      ]
    },
    {
      "cell_type": "markdown",
      "metadata": {
        "id": "2mU57Pa2AlKu"
      },
      "source": [
        "Most recommender systems today use a combination of many methods to always have a good recommendation on hand. This is known as 'Hybrid recommender systems' and can be done in many different ways. Common for all of them is that they combine different individual models into one unified model.\n",
        "\n",
        "Some techniques for hybridization include [[8]](https://en.wikipedia.org/wiki/Recommender_system#Hybrid_recommender_systems).\n",
        "* **Weighted:** Relating scores from differen models with a weight and choose the best\n",
        "* **Switching:** Choose among systems in a lexicographic order\n",
        "* **Mixed:** Present all different recommendations together\n",
        "* **Feature combination:** Combine features from multiple recommenders into a master recommender and give single recommendation\n",
        "\n",
        "More exists, and each have their own advantage. Here *'Weighted'* and *'Feature combination'* will be hard to conduct due to the lack of information available to investigate the predictions made, which makes weighting hard and feature combination even harder.\n",
        "\n",
        "*'Switching'* and *'Mixed'* seem better options. *'Mixed'* could be used as the nature of the recommendations are very different and can be used in different instances of the Olist website. *'Switching'* could be used to provide the best possible recommendation at all time according to some rule.\n",
        "\n",
        "Before deciding, a recap of the three systems will be made:\n",
        "1. **Association rule mining:** This system provides a direct recommendation for an additional buy when the customer puts a product in his/her basket. This system only works for items with associated rules.\n",
        "1. **Content-based filtering:** This system looks at previous likes/dislike of the customer and recommends product similar to the ones liked by the customer. This system only works for customers with multiple purchases.\n",
        "1. **Item-item based Collaborative filtering:** This system looks at correlation between items, and recommends an item to a user if it has a high correlation with items previously bought by the user. This system works for all users.\n",
        "\n",
        "When investigating the different algorithms, it became clear that (1) gave the most logical recommendations but worked only for a few products (2) gave somewhat logical conclusions but worked only for a few customers and (3) gave somewhat ilogical recommendations but worked for all customers.\n",
        "\n",
        "As such, using a combination of *'Switching'* and *'Mixed'* seems like a good option. Using *'Switching'* to always prioritize (1) over (2)/(3), and always prioritize (2) over (3). However, as the recommender systems provide recommendations of different nature, it would also be beneficial to get all recommendations from the system so they can be used in different areas. The system will be build as a simple prototype below, and then it will be evaluated in terms of the KPI's."
      ]
    },
    {
      "cell_type": "markdown",
      "metadata": {
        "id": "0OJ15cJVAlKu"
      },
      "source": [
        "## <span style=\"color:blue\">4.1:</span> Building the engine"
      ]
    },
    {
      "cell_type": "code",
      "execution_count": null,
      "metadata": {
        "id": "EzQ2A3MnAlKv"
      },
      "outputs": [],
      "source": [
        "# NB! Function uses customer_unique_id\n",
        "\n",
        "def recommendationHYBRID(customer, items=None):\n",
        "\n",
        "    best = None\n",
        "\n",
        "    # Order recommendations as ARM > CBF > IICF\n",
        "\n",
        "    ## IICF\n",
        "    IICFrec = recommendationIICF(customer)\n",
        "    if IICFrec == \"Failed\":\n",
        "        None\n",
        "    else:\n",
        "        best = IICFrec\n",
        "\n",
        "    ## CBF\n",
        "    CBFrec = recommendationCBF(customer)\n",
        "    if  CBFrec != \"Failed\":\n",
        "            best = CBFrec\n",
        "\n",
        "    ## Association rule mining\n",
        "    if (items != None):\n",
        "        ARMrec = recommendationARM(items)\n",
        "        if ARMrec != \"Failed\":\n",
        "            best = ARMrec\n",
        "\n",
        "\n",
        "    return best, ARMrec, CBFrec, IICFrec"
      ]
    },
    {
      "cell_type": "markdown",
      "metadata": {
        "id": "ZG0qZUUYAlKv"
      },
      "source": [
        "The engine is a an example of how simple one can combine multiple systems into a stronger performing ensemble. By using a simple lexicographic ordering the system will output the best recommendations, where the lexicographic order has been determined by previous investigations. Additionally, the system will provide the opportunity to access any recommendation made by the system.\n",
        "\n",
        "Below is an example of naively going over 100 different products and customers."
      ]
    },
    {
      "cell_type": "code",
      "execution_count": null,
      "metadata": {
        "id": "ugIEfTAcAlKv"
      },
      "outputs": [],
      "source": [
        "productsIT = pd.read_csv(\"olist_products_dataset.csv\")\n",
        "customersIT = pd.read_csv(\"olist_customers_dataset.csv\")"
      ]
    },
    {
      "cell_type": "code",
      "execution_count": null,
      "metadata": {
        "colab": {
          "base_uri": "https://localhost:8080/"
        },
        "id": "0nTIpZzhAlKv",
        "outputId": "85f079e7-d569-4cd3-8309-f66105e80843",
        "scrolled": true
      },
      "outputs": [],
      "source": [
        "for i in range(100):\n",
        "    a = recommendationHYBRID(customersIT['customer_unique_id'].iloc[i], productsIT['product_id'].iloc[i])\n",
        "    print(a)\n",
        "    if a[0] != None:\n",
        "        b = a"
      ]
    },
    {
      "cell_type": "markdown",
      "metadata": {
        "id": "toZ6gGNAAlKw"
      },
      "source": [
        "Such that the results can easily be accessed by index i.e. b[0] is the best recommendation and b[1-3] is ARM, CBF and IICF respectively. Note that scores have been included such that recommendations can always be evaluated. Although all scores are near perfect currently, as the system evolves cut-off thresholds could be made."
      ]
    },
    {
      "cell_type": "code",
      "execution_count": null,
      "metadata": {
        "colab": {
          "base_uri": "https://localhost:8080/"
        },
        "id": "TAuV0udFAlKw",
        "outputId": "82bd143c-e7fc-4832-f4ab-151f40a9d939"
      },
      "outputs": [],
      "source": [
        "b[0]"
      ]
    },
    {
      "cell_type": "markdown",
      "metadata": {
        "id": "CXRjeYvoAlKw"
      },
      "source": [
        "In the printout above it can be seen that IICF does not find a result for every customer. This is because the model has only been trainde on customers with more than one purchase to limit runtimes, as it takes far too long to run on a normal laptop with all customers."
      ]
    },
    {
      "cell_type": "markdown",
      "metadata": {
        "id": "lnUowiQ4AlKw"
      },
      "source": [
        "## <span style=\"color:blue\">4.2:</span> Evaluating the results compared to KPI's"
      ]
    },
    {
      "cell_type": "markdown",
      "metadata": {
        "id": "3lhalxMhAlKw"
      },
      "source": [
        "The hybrid recommender engine is able to put out three different recommendations. For the KPI estimation it will be assumed that the recommendations are mutually exclusive for simplification. Note that the IICF model was build only for a subset of the total data, but works for the entire set of customers as shown below."
      ]
    },
    {
      "cell_type": "code",
      "execution_count": null,
      "metadata": {
        "colab": {
          "base_uri": "https://localhost:8080/"
        },
        "id": "mCUr7PU9AlKx",
        "outputId": "ddf5315b-a189-4e6b-f244-17fced0db0ea"
      },
      "outputs": [],
      "source": [
        "print(\"Number of recommendations from ARM:  \", len(df_ar))\n",
        "print(\"Number of recommendations from CBF:  \", len(customers.columns))\n",
        "print(\"Number of recommendations from IICF: \", len(customersIT))"
      ]
    },
    {
      "cell_type": "markdown",
      "metadata": {
        "id": "Wltv-r07AlKx"
      },
      "source": [
        "It is assumed that given a ARM recommendation a customer is 10% likely to buy the additional product, given a CBF recommendation the customer is 5% likely to buy the product and given an IICF recommendation the customer is 1% likely to buy the product. These numbers should be adjusted according to domain knowledge provided by Olist.\n",
        "\n",
        "The average price of the products is 120, as calculated in the descriptive analysis. This leads to the following increases in Quantity and Revenue:"
      ]
    },
    {
      "cell_type": "code",
      "execution_count": null,
      "metadata": {
        "colab": {
          "base_uri": "https://localhost:8080/"
        },
        "id": "KORxGJAEAlKx",
        "outputId": "a40179e1-9fa0-44cc-ed79-cda95f83e8e5"
      },
      "outputs": [],
      "source": [
        "print(\"Quantity increase from ARM: \", len(df_ar)*0.1)\n",
        "print(\"Quantity increase from CBF: \", len(customers.columns)*0.05)\n",
        "print(\"Quantity increase from IICF: \", len(customersIT)*0.01)"
      ]
    },
    {
      "cell_type": "code",
      "execution_count": null,
      "metadata": {
        "colab": {
          "base_uri": "https://localhost:8080/"
        },
        "id": "zr_FcwEJAlKx",
        "outputId": "6764fdb0-165d-4dbc-901a-d4e963df0f21"
      },
      "outputs": [],
      "source": [
        "print(\"Revenue increase from ARM: \", round(len(df_ar)*0.1*120), \"R$\")\n",
        "print(\"Revenue increase from CBF: \", round(len(customers.columns)*0.05*120), \"R$\")\n",
        "print(\"Revenue increase from IICF: \", round(len(customersIT)*0.01*120), \"R$\")"
      ]
    },
    {
      "cell_type": "markdown",
      "metadata": {
        "id": "6CGJTFsYAlKy"
      },
      "source": [
        "Such that the total increase is:"
      ]
    },
    {
      "cell_type": "code",
      "execution_count": null,
      "metadata": {
        "colab": {
          "base_uri": "https://localhost:8080/"
        },
        "id": "d0wtP0_zAlKy",
        "outputId": "920056d6-8910-4d02-c196-a8a366f2e2fa"
      },
      "outputs": [],
      "source": [
        "print(\"Total revenue increase: \", 2280+2172+119329, \"R$\")"
      ]
    },
    {
      "cell_type": "markdown",
      "metadata": {
        "id": "25Ma6xqzoAB4"
      },
      "source": [
        "7376431 Pakistani rupees | 73 Lacs"
      ]
    },
    {
      "cell_type": "markdown",
      "metadata": {
        "id": "hqFm_HByAlKy"
      },
      "source": [
        "which when compared to an approximation of existing revenue:"
      ]
    },
    {
      "cell_type": "code",
      "execution_count": null,
      "metadata": {
        "colab": {
          "base_uri": "https://localhost:8080/"
        },
        "id": "YU5KPp1yAlKz",
        "outputId": "ecd483d7-b405-4001-bc5e-ebb0130ed49a"
      },
      "outputs": [],
      "source": [
        "print(\"Current revenue approximation: \", round(len(customersIT)*120), \"R$\")"
      ]
    },
    {
      "cell_type": "markdown",
      "metadata": {
        "id": "dXotcAlYAlKz"
      },
      "source": [
        "Is an increase in revenue of approximately:"
      ]
    },
    {
      "cell_type": "code",
      "execution_count": null,
      "metadata": {
        "colab": {
          "base_uri": "https://localhost:8080/"
        },
        "id": "AgZ2GED2AlK0",
        "outputId": "57524602-36ed-4736-9880-ebbe396a3510"
      },
      "outputs": [],
      "source": [
        "print(\"Revenue increase: \", round((((11932920+123781)/11932920)-1)*100,2),\"%\")"
      ]
    },
    {
      "cell_type": "markdown",
      "metadata": {
        "id": "Ye_YYuMSAlK0"
      },
      "source": [
        "Which can be visualized with contributions from the different engines as can be seen below:"
      ]
    },
    {
      "cell_type": "code",
      "execution_count": null,
      "metadata": {
        "colab": {
          "base_uri": "https://localhost:8080/",
          "height": 542
        },
        "id": "zmYew4uwAlK0",
        "outputId": "9af77e5e-89bd-4e7d-d1ce-88fa316c1797"
      },
      "outputs": [],
      "source": [
        "fig = go.Figure(go.Waterfall(\n",
        "    measure = [\"absolute\", \"relative\", \"relative\", \"relative\", \"total\"],\n",
        "    x = [\"Revenue old\", \"ARM\", \"CBF\", \"IICF\", \"Revenue new\"],\n",
        "    textposition = \"outside\",\n",
        "    text = [\"+11932920\", \"+2280\", \"+2172\", \"+119329\", \"Total\"],\n",
        "    y = [11932920, 2280, 2172, 119329, 0],\n",
        "    connector = {\"line\":{\"color\":\"rgb(63, 63, 63)\"}},\n",
        "))\n",
        "\n",
        "fig.update_layout(\n",
        "        title = \"Increase in revenue from implementing the Hybrid Recommender system\",\n",
        "        showlegend = False,\n",
        "        yaxis=dict(range=[10500000,12500000])\n",
        ")\n",
        "\n",
        "fig.show()"
      ]
    },
    {
      "cell_type": "markdown",
      "metadata": {
        "id": "zrlh9ieBAlK0"
      },
      "source": [
        "Here it becomes apparent that even though ARM and CBF are the best recommender systems, IICF is still able to contribute with a significant revenue boost due to the shear amount of customers.\n",
        "\n",
        "Furthermore, as orders increase and customers buy multiple products and purchase multiple times on Olist, these systems can be re-trained and improved further.\n",
        "\n",
        "However, it is important to evaluate all measures using Olist's domain knowledge to varify assumptions made herein."
      ]
    },
    {
      "cell_type": "markdown",
      "metadata": {
        "id": "XysBd_HKAlK1"
      },
      "source": [
        "# <span style=\"color:orange\">D:</span> Discussion\n",
        "\n",
        "There are many points of discussion in this technical report, the most important which will be listed below.\n",
        "\n",
        "1. **Most customers only use Olist once**\n",
        "\n",
        "As was discovered in the descriptive analysis, most customers only use Olist once. This impacts systems that rely on user-information to make recommendations such as CBF and IICF. This can either be due to a too limited datarange, or simply because Olist has a very special business model. Either way, this is something that must be looked into in order to increase performance of the systems.\n",
        "\n",
        "2. **Most customers buy only one product**\n",
        "\n",
        "Similarly to customers only using Olist once, the majority of customers only purchase one single product as well. This means that not only are there very sparse customer information, there is also very sparse product information due to the excessive amounts of products on the platform. This further reduces performance of the recommender systems, especially systems such as the ARM, but CBF and IICF systems are also impacted. Using recommender systems can be part of the solution to making people buy more, and might improve on itself when implemented.\n",
        "\n",
        "3. **Features are too superficial**\n",
        "\n",
        "A big issue especially for the CBF system is that features for the products are very superficial and does not tell much about the product itself. It the product description was available an SVD and NLP model could be used to extract more detailed information about the products which would significantly enhance predictions using CBF.\n",
        "\n",
        "4. **Reviews are per order not per product**\n",
        "\n",
        "One big issue when using CBF and IICF is that Olist has recommendations not pr. product but pr. order, this means that the reviews may not be directly transferable to the product as has been done in this report. This issue once again shows that the Olist data pose some serious limits on the performance of the systems, why they at most can be considered MVP's (Minimum viable products) or POC's (Proof of concepts).\n",
        "\n",
        "5. **Systems have not been evaluated using test/training splits**\n",
        "\n",
        "Also traditionally being best practice, test/training splits have not been used to evaluate the systems in this report. This is due to the fact that initial evaluations showed how *random* the systems behaved due to lack of data and sparsity. As such, it was concluded that test/training splits and more traditional evaluation techniques would only lead to wrong conclusions.\n",
        "\n",
        "6. **Systems are quite 'advanced'**\n",
        "\n",
        "The systems proposed here are quite advanced, however, due to the limitations posed by the Olist dataset, Olist might be better off using some very basic and naive recommendations initially, before implementing more advanced systems like these. One such example could be to simply look at the product the user is currently viewing and finding similar products using a very basic similarity construct. I.e. if the user is viewing a Huawai phone, an android and an apple iphone might be listed as recommendations to give the customer more opportunities. This type of recommendation system was, however, not implemented as this is hypothesized to not directly increase products pr. order as it simply suggests alternatives.\n",
        "\n",
        "7. **Lack of domain knowledge**\n",
        "\n",
        "The final point of discussion is the lack of domain knowledge available. Olist operates in Brazil and might have a very different culture than what is known here in karachi, additionally, not much knowledge was available for how Olist operates on a general level. As such, any recommendations and analysis herein should preferably be gone over together with domain experts from Olist."
      ]
    },
    {
      "cell_type": "markdown",
      "metadata": {
        "id": "C5WVbKsLAlK1"
      },
      "source": [
        "# <span style=\"color:orange\">E:</span> Conclusion"
      ]
    },
    {
      "cell_type": "markdown",
      "metadata": {
        "id": "Jq9Zjs14AlK1"
      },
      "source": [
        "In this report three different recommender systems were constructed and finally combined into a Hybrid recommender system using the *Switching* and *Mixed* technique.\n",
        "\n",
        "The three systems constructed are:\n",
        "1. Association rule mining\n",
        "1. Content-based filtering\n",
        "1. Item-item collaborative filtering\n",
        "\n",
        "The association rule mining (ARM) found 190 products for which it could construct a recommendation rule. The content-based filtering (CBF) found 362 users for which it could provide customized recommendations. Finally, item-item based collaborative filtering (IICF) found 99441 users for which it could provide recommendations.\n",
        "\n",
        "This resulted in a 1.04% revenue increase, assuming an avg. price of 120R$ and customer willingness to follow recommendations as: ARM: 10\\%, CBF: 5\\% and IICF: 1\\%.\n",
        "\n",
        "The systems perform relatively poorly with the current data, but with construction of these proof of concept models they can easily be improved by adding additional data. Additionally, as customers keep purchasing more, the models will grow and become better as a result.\n",
        "\n",
        "Therefore, it is recommended that Olist start evaluating the recommendations more in-depth, and start deploying them with extensive supervision to further develop the systems in a real-world environment."
      ]
    },
    {
      "cell_type": "markdown",
      "metadata": {
        "id": "z5LwyrrEAlK1"
      },
      "source": [
        "# <span style=\"color:orange\">F:</span> References"
      ]
    },
    {
      "cell_type": "markdown",
      "metadata": {
        "id": "xl2_U6lcAlK2"
      },
      "source": [
        "1. https://en.wikipedia.org/wiki/Upselling\n",
        "1. https://link.springer.com/article/10.1007/s12599-016-0453-1\n",
        "1. https://dl.acm.org/doi/pdf/10.1145/336992.337035\n",
        "1. http://www.vldb.org/conf/1994/P487.PDF\n",
        "1. https://pypi.org/project/apyori/\n",
        "1. https://en.wikipedia.org/wiki/Recommender_system#Content-based_filtering\n",
        "1. https://cn.inside.dtu.dk/cnnet/filesharing/download/4d379354-2162-4c5c-bdd6-5b732f3a7bc2\n",
        "1. https://en.wikipedia.org/wiki/Recommender_system#Hybrid_recommender_systems\n"
      ]
    },
    {
      "cell_type": "code",
      "execution_count": null,
      "metadata": {
        "id": "xXtLwnbKQJs7"
      },
      "outputs": [],
      "source": []
    }
  ],
  "metadata": {
    "accelerator": "GPU",
    "colab": {
      "gpuType": "T4",
      "provenance": []
    },
    "kernelspec": {
      "display_name": "Python 3",
      "name": "python3"
    },
    "language_info": {
      "codemirror_mode": {
        "name": "ipython",
        "version": 3
      },
      "file_extension": ".py",
      "mimetype": "text/x-python",
      "name": "python",
      "nbconvert_exporter": "python",
      "pygments_lexer": "ipython3",
      "version": "3.7.1"
    }
  },
  "nbformat": 4,
  "nbformat_minor": 0
}
